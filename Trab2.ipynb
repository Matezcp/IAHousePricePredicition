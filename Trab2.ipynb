{
  "nbformat": 4,
  "nbformat_minor": 0,
  "metadata": {
    "colab": {
      "name": "Trab2.ipynb",
      "provenance": []
    },
    "kernelspec": {
      "name": "python3",
      "display_name": "Python 3"
    },
    "language_info": {
      "name": "python"
    }
  },
  "cells": [
    {
      "cell_type": "code",
      "metadata": {
        "id": "T3UcA3uf9QOJ"
      },
      "source": [
        "import plotly.express as px\n",
        "import plotly.graph_objects as go\n",
        "import seaborn as sns\n",
        "import matplotlib.pyplot as plt\n",
        "import pandas as pd\n",
        "import numpy as np"
      ],
      "execution_count": null,
      "outputs": []
    },
    {
      "cell_type": "code",
      "metadata": {
        "colab": {
          "base_uri": "https://localhost:8080/",
          "height": 417
        },
        "id": "-dqmTGuL9T97",
        "outputId": "d744b51d-f661-48d1-9983-3624320c868e"
      },
      "source": [
        "base = pd.read_csv('Barcelona_Idealista.csv')\n",
        "base"
      ],
      "execution_count": null,
      "outputs": [
        {
          "output_type": "error",
          "ename": "FileNotFoundError",
          "evalue": "ignored",
          "traceback": [
            "\u001b[0;31m---------------------------------------------------------------------------\u001b[0m",
            "\u001b[0;31mFileNotFoundError\u001b[0m                         Traceback (most recent call last)",
            "\u001b[0;32m<ipython-input-2-db956c908046>\u001b[0m in \u001b[0;36m<module>\u001b[0;34m()\u001b[0m\n\u001b[0;32m----> 1\u001b[0;31m \u001b[0mbase\u001b[0m \u001b[0;34m=\u001b[0m \u001b[0mpd\u001b[0m\u001b[0;34m.\u001b[0m\u001b[0mread_csv\u001b[0m\u001b[0;34m(\u001b[0m\u001b[0;34m'Barcelona_Idealista.csv'\u001b[0m\u001b[0;34m)\u001b[0m\u001b[0;34m\u001b[0m\u001b[0;34m\u001b[0m\u001b[0m\n\u001b[0m\u001b[1;32m      2\u001b[0m \u001b[0mbase\u001b[0m\u001b[0;34m\u001b[0m\u001b[0;34m\u001b[0m\u001b[0m\n",
            "\u001b[0;32m/usr/local/lib/python3.7/dist-packages/pandas/io/parsers.py\u001b[0m in \u001b[0;36mread_csv\u001b[0;34m(filepath_or_buffer, sep, delimiter, header, names, index_col, usecols, squeeze, prefix, mangle_dupe_cols, dtype, engine, converters, true_values, false_values, skipinitialspace, skiprows, skipfooter, nrows, na_values, keep_default_na, na_filter, verbose, skip_blank_lines, parse_dates, infer_datetime_format, keep_date_col, date_parser, dayfirst, cache_dates, iterator, chunksize, compression, thousands, decimal, lineterminator, quotechar, quoting, doublequote, escapechar, comment, encoding, dialect, error_bad_lines, warn_bad_lines, delim_whitespace, low_memory, memory_map, float_precision)\u001b[0m\n\u001b[1;32m    686\u001b[0m     )\n\u001b[1;32m    687\u001b[0m \u001b[0;34m\u001b[0m\u001b[0m\n\u001b[0;32m--> 688\u001b[0;31m     \u001b[0;32mreturn\u001b[0m \u001b[0m_read\u001b[0m\u001b[0;34m(\u001b[0m\u001b[0mfilepath_or_buffer\u001b[0m\u001b[0;34m,\u001b[0m \u001b[0mkwds\u001b[0m\u001b[0;34m)\u001b[0m\u001b[0;34m\u001b[0m\u001b[0;34m\u001b[0m\u001b[0m\n\u001b[0m\u001b[1;32m    689\u001b[0m \u001b[0;34m\u001b[0m\u001b[0m\n\u001b[1;32m    690\u001b[0m \u001b[0;34m\u001b[0m\u001b[0m\n",
            "\u001b[0;32m/usr/local/lib/python3.7/dist-packages/pandas/io/parsers.py\u001b[0m in \u001b[0;36m_read\u001b[0;34m(filepath_or_buffer, kwds)\u001b[0m\n\u001b[1;32m    452\u001b[0m \u001b[0;34m\u001b[0m\u001b[0m\n\u001b[1;32m    453\u001b[0m     \u001b[0;31m# Create the parser.\u001b[0m\u001b[0;34m\u001b[0m\u001b[0;34m\u001b[0m\u001b[0;34m\u001b[0m\u001b[0m\n\u001b[0;32m--> 454\u001b[0;31m     \u001b[0mparser\u001b[0m \u001b[0;34m=\u001b[0m \u001b[0mTextFileReader\u001b[0m\u001b[0;34m(\u001b[0m\u001b[0mfp_or_buf\u001b[0m\u001b[0;34m,\u001b[0m \u001b[0;34m**\u001b[0m\u001b[0mkwds\u001b[0m\u001b[0;34m)\u001b[0m\u001b[0;34m\u001b[0m\u001b[0;34m\u001b[0m\u001b[0m\n\u001b[0m\u001b[1;32m    455\u001b[0m \u001b[0;34m\u001b[0m\u001b[0m\n\u001b[1;32m    456\u001b[0m     \u001b[0;32mif\u001b[0m \u001b[0mchunksize\u001b[0m \u001b[0;32mor\u001b[0m \u001b[0miterator\u001b[0m\u001b[0;34m:\u001b[0m\u001b[0;34m\u001b[0m\u001b[0;34m\u001b[0m\u001b[0m\n",
            "\u001b[0;32m/usr/local/lib/python3.7/dist-packages/pandas/io/parsers.py\u001b[0m in \u001b[0;36m__init__\u001b[0;34m(self, f, engine, **kwds)\u001b[0m\n\u001b[1;32m    946\u001b[0m             \u001b[0mself\u001b[0m\u001b[0;34m.\u001b[0m\u001b[0moptions\u001b[0m\u001b[0;34m[\u001b[0m\u001b[0;34m\"has_index_names\"\u001b[0m\u001b[0;34m]\u001b[0m \u001b[0;34m=\u001b[0m \u001b[0mkwds\u001b[0m\u001b[0;34m[\u001b[0m\u001b[0;34m\"has_index_names\"\u001b[0m\u001b[0;34m]\u001b[0m\u001b[0;34m\u001b[0m\u001b[0;34m\u001b[0m\u001b[0m\n\u001b[1;32m    947\u001b[0m \u001b[0;34m\u001b[0m\u001b[0m\n\u001b[0;32m--> 948\u001b[0;31m         \u001b[0mself\u001b[0m\u001b[0;34m.\u001b[0m\u001b[0m_make_engine\u001b[0m\u001b[0;34m(\u001b[0m\u001b[0mself\u001b[0m\u001b[0;34m.\u001b[0m\u001b[0mengine\u001b[0m\u001b[0;34m)\u001b[0m\u001b[0;34m\u001b[0m\u001b[0;34m\u001b[0m\u001b[0m\n\u001b[0m\u001b[1;32m    949\u001b[0m \u001b[0;34m\u001b[0m\u001b[0m\n\u001b[1;32m    950\u001b[0m     \u001b[0;32mdef\u001b[0m \u001b[0mclose\u001b[0m\u001b[0;34m(\u001b[0m\u001b[0mself\u001b[0m\u001b[0;34m)\u001b[0m\u001b[0;34m:\u001b[0m\u001b[0;34m\u001b[0m\u001b[0;34m\u001b[0m\u001b[0m\n",
            "\u001b[0;32m/usr/local/lib/python3.7/dist-packages/pandas/io/parsers.py\u001b[0m in \u001b[0;36m_make_engine\u001b[0;34m(self, engine)\u001b[0m\n\u001b[1;32m   1178\u001b[0m     \u001b[0;32mdef\u001b[0m \u001b[0m_make_engine\u001b[0m\u001b[0;34m(\u001b[0m\u001b[0mself\u001b[0m\u001b[0;34m,\u001b[0m \u001b[0mengine\u001b[0m\u001b[0;34m=\u001b[0m\u001b[0;34m\"c\"\u001b[0m\u001b[0;34m)\u001b[0m\u001b[0;34m:\u001b[0m\u001b[0;34m\u001b[0m\u001b[0;34m\u001b[0m\u001b[0m\n\u001b[1;32m   1179\u001b[0m         \u001b[0;32mif\u001b[0m \u001b[0mengine\u001b[0m \u001b[0;34m==\u001b[0m \u001b[0;34m\"c\"\u001b[0m\u001b[0;34m:\u001b[0m\u001b[0;34m\u001b[0m\u001b[0;34m\u001b[0m\u001b[0m\n\u001b[0;32m-> 1180\u001b[0;31m             \u001b[0mself\u001b[0m\u001b[0;34m.\u001b[0m\u001b[0m_engine\u001b[0m \u001b[0;34m=\u001b[0m \u001b[0mCParserWrapper\u001b[0m\u001b[0;34m(\u001b[0m\u001b[0mself\u001b[0m\u001b[0;34m.\u001b[0m\u001b[0mf\u001b[0m\u001b[0;34m,\u001b[0m \u001b[0;34m**\u001b[0m\u001b[0mself\u001b[0m\u001b[0;34m.\u001b[0m\u001b[0moptions\u001b[0m\u001b[0;34m)\u001b[0m\u001b[0;34m\u001b[0m\u001b[0;34m\u001b[0m\u001b[0m\n\u001b[0m\u001b[1;32m   1181\u001b[0m         \u001b[0;32melse\u001b[0m\u001b[0;34m:\u001b[0m\u001b[0;34m\u001b[0m\u001b[0;34m\u001b[0m\u001b[0m\n\u001b[1;32m   1182\u001b[0m             \u001b[0;32mif\u001b[0m \u001b[0mengine\u001b[0m \u001b[0;34m==\u001b[0m \u001b[0;34m\"python\"\u001b[0m\u001b[0;34m:\u001b[0m\u001b[0;34m\u001b[0m\u001b[0;34m\u001b[0m\u001b[0m\n",
            "\u001b[0;32m/usr/local/lib/python3.7/dist-packages/pandas/io/parsers.py\u001b[0m in \u001b[0;36m__init__\u001b[0;34m(self, src, **kwds)\u001b[0m\n\u001b[1;32m   2008\u001b[0m         \u001b[0mkwds\u001b[0m\u001b[0;34m[\u001b[0m\u001b[0;34m\"usecols\"\u001b[0m\u001b[0;34m]\u001b[0m \u001b[0;34m=\u001b[0m \u001b[0mself\u001b[0m\u001b[0;34m.\u001b[0m\u001b[0musecols\u001b[0m\u001b[0;34m\u001b[0m\u001b[0;34m\u001b[0m\u001b[0m\n\u001b[1;32m   2009\u001b[0m \u001b[0;34m\u001b[0m\u001b[0m\n\u001b[0;32m-> 2010\u001b[0;31m         \u001b[0mself\u001b[0m\u001b[0;34m.\u001b[0m\u001b[0m_reader\u001b[0m \u001b[0;34m=\u001b[0m \u001b[0mparsers\u001b[0m\u001b[0;34m.\u001b[0m\u001b[0mTextReader\u001b[0m\u001b[0;34m(\u001b[0m\u001b[0msrc\u001b[0m\u001b[0;34m,\u001b[0m \u001b[0;34m**\u001b[0m\u001b[0mkwds\u001b[0m\u001b[0;34m)\u001b[0m\u001b[0;34m\u001b[0m\u001b[0;34m\u001b[0m\u001b[0m\n\u001b[0m\u001b[1;32m   2011\u001b[0m         \u001b[0mself\u001b[0m\u001b[0;34m.\u001b[0m\u001b[0munnamed_cols\u001b[0m \u001b[0;34m=\u001b[0m \u001b[0mself\u001b[0m\u001b[0;34m.\u001b[0m\u001b[0m_reader\u001b[0m\u001b[0;34m.\u001b[0m\u001b[0munnamed_cols\u001b[0m\u001b[0;34m\u001b[0m\u001b[0;34m\u001b[0m\u001b[0m\n\u001b[1;32m   2012\u001b[0m \u001b[0;34m\u001b[0m\u001b[0m\n",
            "\u001b[0;32mpandas/_libs/parsers.pyx\u001b[0m in \u001b[0;36mpandas._libs.parsers.TextReader.__cinit__\u001b[0;34m()\u001b[0m\n",
            "\u001b[0;32mpandas/_libs/parsers.pyx\u001b[0m in \u001b[0;36mpandas._libs.parsers.TextReader._setup_parser_source\u001b[0;34m()\u001b[0m\n",
            "\u001b[0;31mFileNotFoundError\u001b[0m: [Errno 2] No such file or directory: 'Barcelona_Idealista.csv'"
          ]
        }
      ]
    },
    {
      "cell_type": "markdown",
      "metadata": {
        "id": "-PLHiIZ_BcDd"
      },
      "source": [
        "Agora vamos ver quais são os tipos dos dados de nossas colunas"
      ]
    },
    {
      "cell_type": "code",
      "metadata": {
        "colab": {
          "base_uri": "https://localhost:8080/"
        },
        "id": "wxFsJaBi_tZM",
        "outputId": "bc2b9190-48be-496c-fcbe-d9d584deba79"
      },
      "source": [
        "print(base.dtypes)"
      ],
      "execution_count": null,
      "outputs": [
        {
          "output_type": "stream",
          "name": "stdout",
          "text": [
            "Unnamed: 0       int64\n",
            "city            object\n",
            "district        object\n",
            "neighborhood    object\n",
            "condition       object\n",
            "type            object\n",
            "rooms            int64\n",
            "area_m2          int64\n",
            "lift            object\n",
            "views           object\n",
            "floor           object\n",
            "prices           int64\n",
            "dtype: object\n"
          ]
        }
      ]
    },
    {
      "cell_type": "markdown",
      "metadata": {
        "id": "FYXXeby6G8i1"
      },
      "source": [
        "#Análise das colunas numéricas"
      ]
    },
    {
      "cell_type": "code",
      "metadata": {
        "colab": {
          "base_uri": "https://localhost:8080/",
          "height": 325
        },
        "id": "_RgeKRN5HAi5",
        "outputId": "5474ea87-484d-4900-ff1d-4f27626eb2a8"
      },
      "source": [
        "figura = plt.figure(figsize=(5,5))\n",
        "\n",
        "sns.heatmap(base.corr(), annot=True);"
      ],
      "execution_count": null,
      "outputs": [
        {
          "output_type": "display_data",
          "data": {
            "image/png": "[encoded data removed]",
            "text/plain": [
              "<Figure size 360x360 with 2 Axes>"
            ]
          },
          "metadata": {
            "needs_background": "light"
          }
        }
      ]
    },
    {
      "cell_type": "markdown",
      "metadata": {
        "id": "jg24u1JiHRd3"
      },
      "source": [
        "Podemos observar que há uma coluna inútil chamada \"Unnamed: 0\" que deve ser removida"
      ]
    },
    {
      "cell_type": "code",
      "metadata": {
        "colab": {
          "base_uri": "https://localhost:8080/",
          "height": 423
        },
        "id": "OsuiKgXLHXcA",
        "outputId": "2dde18c3-a6ea-493f-af6f-08f4e8125aad"
      },
      "source": [
        "base = base.drop(columns=['Unnamed: 0'])\n",
        "base"
      ],
      "execution_count": null,
      "outputs": [
        {
          "output_type": "execute_result",
          "data": {
            "text/html": [
              "<div>\n",
              "<style scoped>\n",
              "    .dataframe tbody tr th:only-of-type {\n",
              "        vertical-align: middle;\n",
              "    }\n",
              "\n",
              "    .dataframe tbody tr th {\n",
              "        vertical-align: top;\n",
              "    }\n",
              "\n",
              "    .dataframe thead th {\n",
              "        text-align: right;\n",
              "    }\n",
              "</style>\n",
              "<table border=\"1\" class=\"dataframe\">\n",
              "  <thead>\n",
              "    <tr style=\"text-align: right;\">\n",
              "      <th></th>\n",
              "      <th>city</th>\n",
              "      <th>district</th>\n",
              "      <th>neighborhood</th>\n",
              "      <th>condition</th>\n",
              "      <th>type</th>\n",
              "      <th>rooms</th>\n",
              "      <th>area_m2</th>\n",
              "      <th>lift</th>\n",
              "      <th>views</th>\n",
              "      <th>floor</th>\n",
              "      <th>prices</th>\n",
              "    </tr>\n",
              "  </thead>\n",
              "  <tbody>\n",
              "    <tr>\n",
              "      <th>0</th>\n",
              "      <td>Barcelona</td>\n",
              "      <td>Eixample</td>\n",
              "      <td>la Dreta de l'Eixample</td>\n",
              "      <td>good condition</td>\n",
              "      <td>Flat</td>\n",
              "      <td>3</td>\n",
              "      <td>351</td>\n",
              "      <td>Yes</td>\n",
              "      <td>exterior</td>\n",
              "      <td>floor 1</td>\n",
              "      <td>2300000</td>\n",
              "    </tr>\n",
              "    <tr>\n",
              "      <th>1</th>\n",
              "      <td>Barcelona</td>\n",
              "      <td>Sarrià-Sant Gervasi</td>\n",
              "      <td>Sant Gervasi - Galvany</td>\n",
              "      <td>good condition</td>\n",
              "      <td>Flat</td>\n",
              "      <td>5</td>\n",
              "      <td>298</td>\n",
              "      <td>Yes</td>\n",
              "      <td>exterior</td>\n",
              "      <td>floor 3</td>\n",
              "      <td>1750000</td>\n",
              "    </tr>\n",
              "    <tr>\n",
              "      <th>2</th>\n",
              "      <td>Barcelona</td>\n",
              "      <td>Eixample</td>\n",
              "      <td>Sant Antoni</td>\n",
              "      <td>good condition</td>\n",
              "      <td>Penthouse</td>\n",
              "      <td>2</td>\n",
              "      <td>90</td>\n",
              "      <td>Yes</td>\n",
              "      <td>exterior</td>\n",
              "      <td>floor 7</td>\n",
              "      <td>590000</td>\n",
              "    </tr>\n",
              "    <tr>\n",
              "      <th>3</th>\n",
              "      <td>Barcelona</td>\n",
              "      <td>Eixample</td>\n",
              "      <td>la Dreta de l'Eixample</td>\n",
              "      <td>good condition</td>\n",
              "      <td>Flat</td>\n",
              "      <td>2</td>\n",
              "      <td>130</td>\n",
              "      <td>Yes</td>\n",
              "      <td>exterior</td>\n",
              "      <td>floor 1</td>\n",
              "      <td>450000</td>\n",
              "    </tr>\n",
              "    <tr>\n",
              "      <th>4</th>\n",
              "      <td>Barcelona</td>\n",
              "      <td>Horta-Guinardó</td>\n",
              "      <td>Can Baró</td>\n",
              "      <td>good condition</td>\n",
              "      <td>Terraced</td>\n",
              "      <td>3</td>\n",
              "      <td>110</td>\n",
              "      <td>No</td>\n",
              "      <td>exterior</td>\n",
              "      <td>Multiple</td>\n",
              "      <td>430000</td>\n",
              "    </tr>\n",
              "    <tr>\n",
              "      <th>...</th>\n",
              "      <td>...</td>\n",
              "      <td>...</td>\n",
              "      <td>...</td>\n",
              "      <td>...</td>\n",
              "      <td>...</td>\n",
              "      <td>...</td>\n",
              "      <td>...</td>\n",
              "      <td>...</td>\n",
              "      <td>...</td>\n",
              "      <td>...</td>\n",
              "      <td>...</td>\n",
              "    </tr>\n",
              "    <tr>\n",
              "      <th>3260</th>\n",
              "      <td>Barcelona</td>\n",
              "      <td>Gràcia</td>\n",
              "      <td>la Vila de Gràcia</td>\n",
              "      <td>needs refurb</td>\n",
              "      <td>Flat</td>\n",
              "      <td>1</td>\n",
              "      <td>64</td>\n",
              "      <td>Yes</td>\n",
              "      <td>exterior</td>\n",
              "      <td>floor 1</td>\n",
              "      <td>295000</td>\n",
              "    </tr>\n",
              "    <tr>\n",
              "      <th>3261</th>\n",
              "      <td>Barcelona</td>\n",
              "      <td>Ciutat Vella</td>\n",
              "      <td>Sant Pere - Santa Caterina i la Ribera</td>\n",
              "      <td>needs refurb</td>\n",
              "      <td>Flat</td>\n",
              "      <td>3</td>\n",
              "      <td>99</td>\n",
              "      <td>No</td>\n",
              "      <td>exterior</td>\n",
              "      <td>floor 2</td>\n",
              "      <td>420000</td>\n",
              "    </tr>\n",
              "    <tr>\n",
              "      <th>3262</th>\n",
              "      <td>Barcelona</td>\n",
              "      <td>Les Corts</td>\n",
              "      <td>la Maternitat i Sant Ramon</td>\n",
              "      <td>needs refurb</td>\n",
              "      <td>Flat</td>\n",
              "      <td>4</td>\n",
              "      <td>127</td>\n",
              "      <td>Yes</td>\n",
              "      <td>exterior</td>\n",
              "      <td>floor 4</td>\n",
              "      <td>545000</td>\n",
              "    </tr>\n",
              "    <tr>\n",
              "      <th>3263</th>\n",
              "      <td>Barcelona</td>\n",
              "      <td>Sant Martí</td>\n",
              "      <td>el Parc i la Llacuna del Poblenou</td>\n",
              "      <td>needs refurb</td>\n",
              "      <td>Flat</td>\n",
              "      <td>3</td>\n",
              "      <td>64</td>\n",
              "      <td>No</td>\n",
              "      <td>exterior</td>\n",
              "      <td>ground floor</td>\n",
              "      <td>170000</td>\n",
              "    </tr>\n",
              "    <tr>\n",
              "      <th>3264</th>\n",
              "      <td>Barcelona</td>\n",
              "      <td>Ciutat Vella</td>\n",
              "      <td>el Raval</td>\n",
              "      <td>needs refurb</td>\n",
              "      <td>Flat</td>\n",
              "      <td>4</td>\n",
              "      <td>70</td>\n",
              "      <td>No</td>\n",
              "      <td>exterior</td>\n",
              "      <td>floor 1</td>\n",
              "      <td>178800</td>\n",
              "    </tr>\n",
              "  </tbody>\n",
              "</table>\n",
              "<p>3265 rows × 11 columns</p>\n",
              "</div>"
            ],
            "text/plain": [
              "           city             district  ...         floor   prices\n",
              "0     Barcelona             Eixample  ...       floor 1  2300000\n",
              "1     Barcelona  Sarrià-Sant Gervasi  ...       floor 3  1750000\n",
              "2     Barcelona             Eixample  ...       floor 7   590000\n",
              "3     Barcelona             Eixample  ...       floor 1   450000\n",
              "4     Barcelona       Horta-Guinardó  ...      Multiple   430000\n",
              "...         ...                  ...  ...           ...      ...\n",
              "3260  Barcelona               Gràcia  ...       floor 1   295000\n",
              "3261  Barcelona         Ciutat Vella  ...       floor 2   420000\n",
              "3262  Barcelona            Les Corts  ...       floor 4   545000\n",
              "3263  Barcelona           Sant Martí  ...  ground floor   170000\n",
              "3264  Barcelona         Ciutat Vella  ...       floor 1   178800\n",
              "\n",
              "[3265 rows x 11 columns]"
            ]
          },
          "metadata": {},
          "execution_count": 5
        }
      ]
    },
    {
      "cell_type": "markdown",
      "metadata": {
        "id": "fRY73TJFA1pr"
      },
      "source": [
        "#Análise das colunas de texto"
      ]
    },
    {
      "cell_type": "markdown",
      "metadata": {
        "id": "AKhEBtDAHhAO"
      },
      "source": [
        "##Cidade"
      ]
    },
    {
      "cell_type": "code",
      "metadata": {
        "colab": {
          "base_uri": "https://localhost:8080/"
        },
        "id": "HGB1pUDpHjwi",
        "outputId": "c2b870c0-92f8-4d29-a9cd-c5611b73c886"
      },
      "source": [
        "print(base['city'].value_counts())\n",
        "\n",
        "plt.figure(figsize=(15, 5))\n",
        "grafico = sns.countplot('city', data=base)\n",
        "grafico.tick_params(axis='x', rotation=90)"
      ],
      "execution_count": null,
      "outputs": [
        {
          "output_type": "stream",
          "name": "stdout",
          "text": [
            "Barcelona    3265\n",
            "Name: city, dtype: int64\n"
          ]
        },
        {
          "output_type": "stream",
          "name": "stderr",
          "text": [
            "/usr/local/lib/python3.7/dist-packages/seaborn/_decorators.py:43: FutureWarning:\n",
            "\n",
            "Pass the following variable as a keyword arg: x. From version 0.12, the only valid positional argument will be `data`, and passing other arguments without an explicit keyword will result in an error or misinterpretation.\n",
            "\n"
          ]
        },
        {
          "output_type": "display_data",
          "data": {
            "image/png": "[encoded data removed]",
            "text/plain": [
              "<Figure size 1080x360 with 1 Axes>"
            ]
          },
          "metadata": {
            "needs_background": "light"
          }
        }
      ]
    },
    {
      "cell_type": "markdown",
      "metadata": {
        "id": "Gz8yu-fFHmUn"
      },
      "source": [
        "Estamos analisando apenas propriedas em Barcelona, logo todas as entradas tem a mesma cidade, portanto essa coluna será inútil para nosso modelo e deve ser retirada"
      ]
    },
    {
      "cell_type": "code",
      "metadata": {
        "colab": {
          "base_uri": "https://localhost:8080/"
        },
        "id": "IK6Kfjo-HvSZ",
        "outputId": "0e7adf7f-9208-4411-a9dd-d8fa400dfa79"
      },
      "source": [
        "base = base.drop(columns=['city'])\n",
        "base"
      ],
      "execution_count": null,
      "outputs": [
        {
          "output_type": "execute_result",
          "data": {
            "text/html": [
              "<div>\n",
              "<style scoped>\n",
              "    .dataframe tbody tr th:only-of-type {\n",
              "        vertical-align: middle;\n",
              "    }\n",
              "\n",
              "    .dataframe tbody tr th {\n",
              "        vertical-align: top;\n",
              "    }\n",
              "\n",
              "    .dataframe thead th {\n",
              "        text-align: right;\n",
              "    }\n",
              "</style>\n",
              "<table border=\"1\" class=\"dataframe\">\n",
              "  <thead>\n",
              "    <tr style=\"text-align: right;\">\n",
              "      <th></th>\n",
              "      <th>district</th>\n",
              "      <th>neighborhood</th>\n",
              "      <th>condition</th>\n",
              "      <th>type</th>\n",
              "      <th>rooms</th>\n",
              "      <th>area_m2</th>\n",
              "      <th>lift</th>\n",
              "      <th>views</th>\n",
              "      <th>floor</th>\n",
              "      <th>prices</th>\n",
              "    </tr>\n",
              "  </thead>\n",
              "  <tbody>\n",
              "    <tr>\n",
              "      <th>0</th>\n",
              "      <td>Eixample</td>\n",
              "      <td>la Dreta de l'Eixample</td>\n",
              "      <td>good condition</td>\n",
              "      <td>Flat</td>\n",
              "      <td>3</td>\n",
              "      <td>351</td>\n",
              "      <td>Yes</td>\n",
              "      <td>exterior</td>\n",
              "      <td>floor 1</td>\n",
              "      <td>2300000</td>\n",
              "    </tr>\n",
              "    <tr>\n",
              "      <th>1</th>\n",
              "      <td>Sarrià-Sant Gervasi</td>\n",
              "      <td>Sant Gervasi - Galvany</td>\n",
              "      <td>good condition</td>\n",
              "      <td>Flat</td>\n",
              "      <td>5</td>\n",
              "      <td>298</td>\n",
              "      <td>Yes</td>\n",
              "      <td>exterior</td>\n",
              "      <td>floor 3</td>\n",
              "      <td>1750000</td>\n",
              "    </tr>\n",
              "    <tr>\n",
              "      <th>2</th>\n",
              "      <td>Eixample</td>\n",
              "      <td>Sant Antoni</td>\n",
              "      <td>good condition</td>\n",
              "      <td>Penthouse</td>\n",
              "      <td>2</td>\n",
              "      <td>90</td>\n",
              "      <td>Yes</td>\n",
              "      <td>exterior</td>\n",
              "      <td>floor 7</td>\n",
              "      <td>590000</td>\n",
              "    </tr>\n",
              "    <tr>\n",
              "      <th>3</th>\n",
              "      <td>Eixample</td>\n",
              "      <td>la Dreta de l'Eixample</td>\n",
              "      <td>good condition</td>\n",
              "      <td>Flat</td>\n",
              "      <td>2</td>\n",
              "      <td>130</td>\n",
              "      <td>Yes</td>\n",
              "      <td>exterior</td>\n",
              "      <td>floor 1</td>\n",
              "      <td>450000</td>\n",
              "    </tr>\n",
              "    <tr>\n",
              "      <th>4</th>\n",
              "      <td>Horta-Guinardó</td>\n",
              "      <td>Can Baró</td>\n",
              "      <td>good condition</td>\n",
              "      <td>Terraced</td>\n",
              "      <td>3</td>\n",
              "      <td>110</td>\n",
              "      <td>No</td>\n",
              "      <td>exterior</td>\n",
              "      <td>Multiple</td>\n",
              "      <td>430000</td>\n",
              "    </tr>\n",
              "    <tr>\n",
              "      <th>...</th>\n",
              "      <td>...</td>\n",
              "      <td>...</td>\n",
              "      <td>...</td>\n",
              "      <td>...</td>\n",
              "      <td>...</td>\n",
              "      <td>...</td>\n",
              "      <td>...</td>\n",
              "      <td>...</td>\n",
              "      <td>...</td>\n",
              "      <td>...</td>\n",
              "    </tr>\n",
              "    <tr>\n",
              "      <th>3260</th>\n",
              "      <td>Gràcia</td>\n",
              "      <td>la Vila de Gràcia</td>\n",
              "      <td>needs refurb</td>\n",
              "      <td>Flat</td>\n",
              "      <td>1</td>\n",
              "      <td>64</td>\n",
              "      <td>Yes</td>\n",
              "      <td>exterior</td>\n",
              "      <td>floor 1</td>\n",
              "      <td>295000</td>\n",
              "    </tr>\n",
              "    <tr>\n",
              "      <th>3261</th>\n",
              "      <td>Ciutat Vella</td>\n",
              "      <td>Sant Pere - Santa Caterina i la Ribera</td>\n",
              "      <td>needs refurb</td>\n",
              "      <td>Flat</td>\n",
              "      <td>3</td>\n",
              "      <td>99</td>\n",
              "      <td>No</td>\n",
              "      <td>exterior</td>\n",
              "      <td>floor 2</td>\n",
              "      <td>420000</td>\n",
              "    </tr>\n",
              "    <tr>\n",
              "      <th>3262</th>\n",
              "      <td>Les Corts</td>\n",
              "      <td>la Maternitat i Sant Ramon</td>\n",
              "      <td>needs refurb</td>\n",
              "      <td>Flat</td>\n",
              "      <td>4</td>\n",
              "      <td>127</td>\n",
              "      <td>Yes</td>\n",
              "      <td>exterior</td>\n",
              "      <td>floor 4</td>\n",
              "      <td>545000</td>\n",
              "    </tr>\n",
              "    <tr>\n",
              "      <th>3263</th>\n",
              "      <td>Sant Martí</td>\n",
              "      <td>el Parc i la Llacuna del Poblenou</td>\n",
              "      <td>needs refurb</td>\n",
              "      <td>Flat</td>\n",
              "      <td>3</td>\n",
              "      <td>64</td>\n",
              "      <td>No</td>\n",
              "      <td>exterior</td>\n",
              "      <td>ground floor</td>\n",
              "      <td>170000</td>\n",
              "    </tr>\n",
              "    <tr>\n",
              "      <th>3264</th>\n",
              "      <td>Ciutat Vella</td>\n",
              "      <td>el Raval</td>\n",
              "      <td>needs refurb</td>\n",
              "      <td>Flat</td>\n",
              "      <td>4</td>\n",
              "      <td>70</td>\n",
              "      <td>No</td>\n",
              "      <td>exterior</td>\n",
              "      <td>floor 1</td>\n",
              "      <td>178800</td>\n",
              "    </tr>\n",
              "  </tbody>\n",
              "</table>\n",
              "<p>3265 rows × 10 columns</p>\n",
              "</div>"
            ],
            "text/plain": [
              "                 district  ...   prices\n",
              "0                Eixample  ...  2300000\n",
              "1     Sarrià-Sant Gervasi  ...  1750000\n",
              "2                Eixample  ...   590000\n",
              "3                Eixample  ...   450000\n",
              "4          Horta-Guinardó  ...   430000\n",
              "...                   ...  ...      ...\n",
              "3260               Gràcia  ...   295000\n",
              "3261         Ciutat Vella  ...   420000\n",
              "3262            Les Corts  ...   545000\n",
              "3263           Sant Martí  ...   170000\n",
              "3264         Ciutat Vella  ...   178800\n",
              "\n",
              "[3265 rows x 10 columns]"
            ]
          },
          "metadata": {},
          "execution_count": 7
        }
      ]
    },
    {
      "cell_type": "markdown",
      "metadata": {
        "id": "9HAYi4abA6fX"
      },
      "source": [
        "##Distrito"
      ]
    },
    {
      "cell_type": "code",
      "metadata": {
        "colab": {
          "base_uri": "https://localhost:8080/"
        },
        "id": "qEiII2-g_xtQ",
        "outputId": "ed967b86-20ec-4f94-e5e2-4aeb52185430"
      },
      "source": [
        "print(base['district'].value_counts())\n",
        "\n",
        "plt.figure(figsize=(15, 5))\n",
        "grafico = sns.countplot('district', data=base)\n",
        "grafico.tick_params(axis='x', rotation=90)"
      ],
      "execution_count": null,
      "outputs": [
        {
          "output_type": "stream",
          "name": "stdout",
          "text": [
            "Eixample               788\n",
            "Sarrià-Sant Gervasi    519\n",
            "Sant Martí             420\n",
            "Ciutat Vella           340\n",
            "Sants-Montjuïc         271\n",
            "Les Corts              257\n",
            "Horta-Guinardó         206\n",
            "Gràcia                 205\n",
            "Sant Andreu            155\n",
            "Nou Barris             104\n",
            "Name: district, dtype: int64\n"
          ]
        },
        {
          "output_type": "stream",
          "name": "stderr",
          "text": [
            "/usr/local/lib/python3.7/dist-packages/seaborn/_decorators.py:43: FutureWarning:\n",
            "\n",
            "Pass the following variable as a keyword arg: x. From version 0.12, the only valid positional argument will be `data`, and passing other arguments without an explicit keyword will result in an error or misinterpretation.\n",
            "\n"
          ]
        },
        {
          "output_type": "display_data",
          "data": {
            "image/png": "[encoded data removed]",
            "text/plain": [
              "<Figure size 1080x360 with 1 Axes>"
            ]
          },
          "metadata": {
            "needs_background": "light"
          }
        }
      ]
    },
    {
      "cell_type": "markdown",
      "metadata": {
        "id": "1ekCNP43H9Jw"
      },
      "source": [
        "Podemos ver que os distritos estão com um bom equilíbrio, portanto não há alteração necessária no momento com essa coluna"
      ]
    },
    {
      "cell_type": "markdown",
      "metadata": {
        "id": "PxTI12vmA-dv"
      },
      "source": [
        "##Vizinhança"
      ]
    },
    {
      "cell_type": "code",
      "metadata": {
        "colab": {
          "base_uri": "https://localhost:8080/"
        },
        "id": "ef6YkRiUBGfJ",
        "outputId": "42cd928e-9808-474a-e6b6-185a59220839"
      },
      "source": [
        "print(base['neighborhood'].value_counts().tolist())\n",
        "plt.figure(figsize=(15, 5))\n",
        "grafico = sns.countplot('neighborhood', data=base)\n",
        "grafico.tick_params(axis='x', rotation=90)"
      ],
      "execution_count": null,
      "outputs": [
        {
          "output_type": "stream",
          "name": "stdout",
          "text": [
            "[241, 219, 157, 137, 132, 128, 111, 109, 105, 90, 85, 84, 82, 82, 81, 76, 74, 66, 61, 59, 56, 51, 51, 49, 48, 44, 41, 37, 36, 35, 33, 32, 32, 30, 30, 29, 29, 28, 27, 26, 26, 25, 25, 25, 22, 22, 21, 20, 17, 15, 15, 14, 14, 12, 11, 10, 10, 9, 6, 6, 5, 4, 3, 3, 2]\n"
          ]
        },
        {
          "output_type": "stream",
          "name": "stderr",
          "text": [
            "/usr/local/lib/python3.7/dist-packages/seaborn/_decorators.py:43: FutureWarning:\n",
            "\n",
            "Pass the following variable as a keyword arg: x. From version 0.12, the only valid positional argument will be `data`, and passing other arguments without an explicit keyword will result in an error or misinterpretation.\n",
            "\n"
          ]
        },
        {
          "output_type": "display_data",
          "data": {
            "image/png": "[encoded data removed]",
            "text/plain": [
              "<Figure size 1080x360 with 1 Axes>"
            ]
          },
          "metadata": {
            "needs_background": "light"
          }
        }
      ]
    },
    {
      "cell_type": "markdown",
      "metadata": {
        "id": "yvynaoubIm3k"
      },
      "source": [
        "Podemos observar que há muitas vizinhanças, para melhorar um pouco nossa base de dados vamos agrupar as vizinhanças com menos de 10 representantes em uma nova categoria \"Others\""
      ]
    },
    {
      "cell_type": "code",
      "metadata": {
        "colab": {
          "base_uri": "https://localhost:8080/"
        },
        "id": "yybhHQt3I7di",
        "outputId": "6b25b8e3-c1d7-45b7-9083-525ff2f1a58d"
      },
      "source": [
        "tabela_tipos = base['neighborhood'].value_counts()\n",
        "colunas_agrupar = []\n",
        "\n",
        "for tipo in tabela_tipos.index:\n",
        "    if tabela_tipos[tipo] <= 10:\n",
        "        colunas_agrupar.append(tipo)\n",
        "print(colunas_agrupar)\n",
        "\n",
        "for tipo in colunas_agrupar:\n",
        "    base.loc[base['neighborhood']==tipo, 'neighborhood'] = 'Others'\n",
        "\n",
        "print(base['neighborhood'].value_counts())\n",
        "plt.figure(figsize=(15, 5))\n",
        "grafico = sns.countplot('neighborhood', data=base)\n",
        "grafico.tick_params(axis='x', rotation=90)"
      ],
      "execution_count": null,
      "outputs": [
        {
          "output_type": "stream",
          "name": "stdout",
          "text": [
            "['el Bon Pastor', 'la Trinitat Nova', 'Sant Genís dels Agudells', 'la Guineueta', 'Verdun', 'Can Peguera', 'les Roquetes', \"la Vall d'Hebron\", 'Canyelles', 'Ciutat Meridiana']\n",
            "la Dreta de l'Eixample                          241\n",
            "Sant Gervasi - Galvany                          219\n",
            "l'Antiga Esquerra de l'Eixample                 157\n",
            "el Raval                                        137\n",
            "la Nova Esquerra de l'Eixample                  132\n",
            "la Sagrada Família                              128\n",
            "Pedralbes                                       111\n",
            "les Corts                                       109\n",
            "el Barri Gòtic                                  105\n",
            "el Putxet i el Farró                             90\n",
            "la Vila de Gràcia                                85\n",
            "Sant Pere - Santa Caterina i la Ribera           84\n",
            "el Poble Sec - AEI Parc de Montjuïc              82\n",
            "Sant Antoni                                      82\n",
            "el Poblenou                                      81\n",
            "el Camp de l'Arpa del Clot                       76\n",
            "Sant Gervasi - la Bonanova                       74\n",
            "Sarrià                                           66\n",
            "el Clot                                          61\n",
            "el Camp d'en Grassot i Gràcia Nova               59\n",
            "Others                                           58\n",
            "Sants                                            56\n",
            "el Guinardó                                      51\n",
            "Sant Andreu                                      51\n",
            "el Parc i la Llacuna del Poblenou                49\n",
            "el Fort Pienc                                    48\n",
            "les Tres Torres                                  44\n",
            "Sants - Badal                                    41\n",
            "la Maternitat i Sant Ramon                       37\n",
            "la Marina de Port                                36\n",
            "Vilapicina i la Torre Llobeta                    35\n",
            "la Sagrera                                       33\n",
            "el Congrés i els Indians                         32\n",
            "el Carmel                                        32\n",
            "la Verneda i la Pau                              30\n",
            "Horta                                            30\n",
            "el Baix Guinardó                                 29\n",
            "Navas                                            29\n",
            "Diagonal Mar i el Front Marítim del Poblenou     28\n",
            "Provençals del Poblenou                          27\n",
            "la Vila Olímpica del Poblenou                    26\n",
            "Vallvidrera - el Tibidabo i les Planes           26\n",
            "Hostafrancs                                      25\n",
            "la Font d'en Fargues                             25\n",
            "Vallcarca i els Penitents                        25\n",
            "Porta                                            22\n",
            "el Besòs i el Maresme                            22\n",
            "la Salut                                         21\n",
            "Sant Martí de Provençals                         20\n",
            "la Bordeta                                       17\n",
            "la Teixonera                                     15\n",
            "el Coll                                          15\n",
            "la Font de la Guatlla                            14\n",
            "la Barceloneta                                   14\n",
            "Can Baró                                         12\n",
            "la Prosperitat                                   11\n",
            "Name: neighborhood, dtype: int64\n"
          ]
        },
        {
          "output_type": "stream",
          "name": "stderr",
          "text": [
            "/usr/local/lib/python3.7/dist-packages/seaborn/_decorators.py:43: FutureWarning:\n",
            "\n",
            "Pass the following variable as a keyword arg: x. From version 0.12, the only valid positional argument will be `data`, and passing other arguments without an explicit keyword will result in an error or misinterpretation.\n",
            "\n"
          ]
        },
        {
          "output_type": "display_data",
          "data": {
            "image/png": "[encoded data removed]",
            "text/plain": [
              "<Figure size 1080x360 with 1 Axes>"
            ]
          },
          "metadata": {
            "needs_background": "light"
          }
        }
      ]
    },
    {
      "cell_type": "markdown",
      "metadata": {
        "id": "VASWKDyfBnyJ"
      },
      "source": [
        "##Condição"
      ]
    },
    {
      "cell_type": "code",
      "metadata": {
        "colab": {
          "base_uri": "https://localhost:8080/"
        },
        "id": "mSOy0k4NBqvB",
        "outputId": "e1aafb4e-efea-45ab-b6cd-14f187b9c270"
      },
      "source": [
        "print(base['condition'].value_counts())\n",
        "\n",
        "plt.figure(figsize=(15, 5))\n",
        "grafico = sns.countplot('condition', data=base)\n",
        "grafico.tick_params(axis='x', rotation=90)"
      ],
      "execution_count": null,
      "outputs": [
        {
          "output_type": "stream",
          "name": "stdout",
          "text": [
            "good condition    1355\n",
            "needs refurb      1328\n",
            "new                582\n",
            "Name: condition, dtype: int64\n"
          ]
        },
        {
          "output_type": "stream",
          "name": "stderr",
          "text": [
            "/usr/local/lib/python3.7/dist-packages/seaborn/_decorators.py:43: FutureWarning:\n",
            "\n",
            "Pass the following variable as a keyword arg: x. From version 0.12, the only valid positional argument will be `data`, and passing other arguments without an explicit keyword will result in an error or misinterpretation.\n",
            "\n"
          ]
        },
        {
          "output_type": "display_data",
          "data": {
            "image/png": "[encoded data removed]",
            "text/plain": [
              "<Figure size 1080x360 with 1 Axes>"
            ]
          },
          "metadata": {
            "needs_background": "light"
          }
        }
      ]
    },
    {
      "cell_type": "markdown",
      "metadata": {
        "id": "kKkgbQQ3DMv8"
      },
      "source": [
        "Podemos observar que há apenas 3 confições possíveis, portanto podemos trocar os textos dessa coluna por números, com 0 simbolizando \"needs refurb\", 1 simbolizando \"good condition\" e 2 simbolizando \"new\""
      ]
    },
    {
      "cell_type": "code",
      "metadata": {
        "colab": {
          "base_uri": "https://localhost:8080/"
        },
        "id": "e4aS6A32DfyA",
        "outputId": "f7ee8b50-6eba-4a20-f2d7-202387580680"
      },
      "source": [
        "base.loc[base['condition']=='needs refurb', 'condition'] = 0\n",
        "base.loc[base['condition']=='good condition', 'condition'] = 1\n",
        "base.loc[base['condition']=='new', 'condition'] = 2\n",
        "base['condition']"
      ],
      "execution_count": null,
      "outputs": [
        {
          "output_type": "execute_result",
          "data": {
            "text/plain": [
              "0       1\n",
              "1       1\n",
              "2       1\n",
              "3       1\n",
              "4       1\n",
              "       ..\n",
              "3260    0\n",
              "3261    0\n",
              "3262    0\n",
              "3263    0\n",
              "3264    0\n",
              "Name: condition, Length: 3265, dtype: object"
            ]
          },
          "metadata": {},
          "execution_count": 12
        }
      ]
    },
    {
      "cell_type": "markdown",
      "metadata": {
        "id": "zwyboDPqCF-l"
      },
      "source": [
        "##Tipo"
      ]
    },
    {
      "cell_type": "code",
      "metadata": {
        "colab": {
          "base_uri": "https://localhost:8080/"
        },
        "id": "K1foG9NDCMtD",
        "outputId": "8fc0b811-3656-45a2-e393-9f345b1a8b72"
      },
      "source": [
        "print(base['type'].value_counts())\n",
        "\n",
        "plt.figure(figsize=(15, 5))\n",
        "grafico = sns.countplot('type', data=base)\n",
        "grafico.tick_params(axis='x', rotation=90)"
      ],
      "execution_count": null,
      "outputs": [
        {
          "output_type": "stream",
          "name": "stdout",
          "text": [
            "Flat             2751\n",
            "Penthouse         262\n",
            "Duplex            108\n",
            "Detached           55\n",
            "House              54\n",
            "Terraced           22\n",
            "Semi-detached      12\n",
            "Rustic              1\n",
            "Name: type, dtype: int64\n"
          ]
        },
        {
          "output_type": "stream",
          "name": "stderr",
          "text": [
            "/usr/local/lib/python3.7/dist-packages/seaborn/_decorators.py:43: FutureWarning:\n",
            "\n",
            "Pass the following variable as a keyword arg: x. From version 0.12, the only valid positional argument will be `data`, and passing other arguments without an explicit keyword will result in an error or misinterpretation.\n",
            "\n"
          ]
        },
        {
          "output_type": "display_data",
          "data": {
            "image/png": "[encoded data removed]",
            "text/plain": [
              "<Figure size 1080x360 with 1 Axes>"
            ]
          },
          "metadata": {
            "needs_background": "light"
          }
        }
      ]
    },
    {
      "cell_type": "markdown",
      "metadata": {
        "id": "bAuxfegKEkGQ"
      },
      "source": [
        "Podemos observar que temos alguns tipos muito pouco significativos, portanto vamos agrupar todos os tipos que possuam menos que 50 representantes em um novo tipo chamado \"others\""
      ]
    },
    {
      "cell_type": "code",
      "metadata": {
        "colab": {
          "base_uri": "https://localhost:8080/"
        },
        "id": "fpH8dkqTExQ5",
        "outputId": "8a303202-6bae-4de1-b81b-97aaf50bd7b4"
      },
      "source": [
        "tabela_tipos = base['type'].value_counts()\n",
        "colunas_agrupar = []\n",
        "\n",
        "for tipo in tabela_tipos.index:\n",
        "    if tabela_tipos[tipo] < 50:\n",
        "        colunas_agrupar.append(tipo)\n",
        "print(colunas_agrupar)\n",
        "\n",
        "for tipo in colunas_agrupar:\n",
        "    base.loc[base['type']==tipo, 'type'] = 'Others'\n",
        "\n",
        "print(base['type'].value_counts())\n",
        "plt.figure(figsize=(15, 5))\n",
        "grafico = sns.countplot('type', data=base)\n",
        "grafico.tick_params(axis='x', rotation=90)"
      ],
      "execution_count": null,
      "outputs": [
        {
          "output_type": "stream",
          "name": "stdout",
          "text": [
            "['Terraced', 'Semi-detached', 'Rustic']\n",
            "Flat         2751\n",
            "Penthouse     262\n",
            "Duplex        108\n",
            "Detached       55\n",
            "House          54\n",
            "Others         35\n",
            "Name: type, dtype: int64\n"
          ]
        },
        {
          "output_type": "stream",
          "name": "stderr",
          "text": [
            "/usr/local/lib/python3.7/dist-packages/seaborn/_decorators.py:43: FutureWarning:\n",
            "\n",
            "Pass the following variable as a keyword arg: x. From version 0.12, the only valid positional argument will be `data`, and passing other arguments without an explicit keyword will result in an error or misinterpretation.\n",
            "\n"
          ]
        },
        {
          "output_type": "display_data",
          "data": {
            "image/png": "[encoded data removed]",
            "text/plain": [
              "<Figure size 1080x360 with 1 Axes>"
            ]
          },
          "metadata": {
            "needs_background": "light"
          }
        }
      ]
    },
    {
      "cell_type": "markdown",
      "metadata": {
        "id": "ceoml7vICUfQ"
      },
      "source": [
        "##Elevador"
      ]
    },
    {
      "cell_type": "code",
      "metadata": {
        "colab": {
          "base_uri": "https://localhost:8080/"
        },
        "id": "MlgtzuSbCVkf",
        "outputId": "9dc3e279-84a6-4b24-8791-96e2ac04046b"
      },
      "source": [
        "print(base['lift'].value_counts())\n",
        "\n",
        "plt.figure(figsize=(15, 5))\n",
        "grafico = sns.countplot('lift', data=base)\n",
        "grafico.tick_params(axis='x', rotation=90)"
      ],
      "execution_count": null,
      "outputs": [
        {
          "output_type": "stream",
          "name": "stdout",
          "text": [
            "Yes    2727\n",
            "No      538\n",
            "Name: lift, dtype: int64\n"
          ]
        },
        {
          "output_type": "stream",
          "name": "stderr",
          "text": [
            "/usr/local/lib/python3.7/dist-packages/seaborn/_decorators.py:43: FutureWarning:\n",
            "\n",
            "Pass the following variable as a keyword arg: x. From version 0.12, the only valid positional argument will be `data`, and passing other arguments without an explicit keyword will result in an error or misinterpretation.\n",
            "\n"
          ]
        },
        {
          "output_type": "display_data",
          "data": {
            "image/png": "[encoded data removed]",
            "text/plain": [
              "<Figure size 1080x360 with 1 Axes>"
            ]
          },
          "metadata": {
            "needs_background": "light"
          }
        }
      ]
    },
    {
      "cell_type": "markdown",
      "metadata": {
        "id": "_nFkND3DFMiY"
      },
      "source": [
        "Podemos observar que essa coluna é simplesmente sim ou não, logo podendo ser representada por 0 ou 1"
      ]
    },
    {
      "cell_type": "code",
      "metadata": {
        "colab": {
          "base_uri": "https://localhost:8080/"
        },
        "id": "Y0lIn6UYFIYy",
        "outputId": "12d44e52-4010-4a51-9f8d-86c57857a6f2"
      },
      "source": [
        "base.loc[base['lift']=='No', 'lift'] = 0\n",
        "base.loc[base['lift']=='Yes', 'lift'] = 1\n",
        "base['lift']"
      ],
      "execution_count": null,
      "outputs": [
        {
          "output_type": "execute_result",
          "data": {
            "text/plain": [
              "0       1\n",
              "1       1\n",
              "2       1\n",
              "3       1\n",
              "4       0\n",
              "       ..\n",
              "3260    1\n",
              "3261    0\n",
              "3262    1\n",
              "3263    0\n",
              "3264    0\n",
              "Name: lift, Length: 3265, dtype: object"
            ]
          },
          "metadata": {},
          "execution_count": 16
        }
      ]
    },
    {
      "cell_type": "markdown",
      "metadata": {
        "id": "2nJvb3kiCpjf"
      },
      "source": [
        "##Vista"
      ]
    },
    {
      "cell_type": "code",
      "metadata": {
        "colab": {
          "base_uri": "https://localhost:8080/"
        },
        "id": "3eVYN1onCqxr",
        "outputId": "99fb2bfe-3bb3-46c1-aa04-e65c1c2365ed"
      },
      "source": [
        "print(base['views'].value_counts())\n",
        "\n",
        "plt.figure(figsize=(15, 5))\n",
        "grafico = sns.countplot('views', data=base)\n",
        "grafico.tick_params(axis='x', rotation=90)"
      ],
      "execution_count": null,
      "outputs": [
        {
          "output_type": "stream",
          "name": "stdout",
          "text": [
            "exterior    3098\n",
            "interior     167\n",
            "Name: views, dtype: int64\n"
          ]
        },
        {
          "output_type": "stream",
          "name": "stderr",
          "text": [
            "/usr/local/lib/python3.7/dist-packages/seaborn/_decorators.py:43: FutureWarning:\n",
            "\n",
            "Pass the following variable as a keyword arg: x. From version 0.12, the only valid positional argument will be `data`, and passing other arguments without an explicit keyword will result in an error or misinterpretation.\n",
            "\n"
          ]
        },
        {
          "output_type": "display_data",
          "data": {
            "image/png": "[encoded data removed]",
            "text/plain": [
              "<Figure size 1080x360 with 1 Axes>"
            ]
          },
          "metadata": {
            "needs_background": "light"
          }
        }
      ]
    },
    {
      "cell_type": "markdown",
      "metadata": {
        "id": "ef5NX9rpFoxv"
      },
      "source": [
        "Podemos observar que essa coluna pode assumir apenas 2 tipos, interior ou exterior, portanto vamos trocar esses valores por 0 ou 1"
      ]
    },
    {
      "cell_type": "code",
      "metadata": {
        "colab": {
          "base_uri": "https://localhost:8080/"
        },
        "id": "blfZl06kFl2j",
        "outputId": "d2656b4f-be1a-4f9f-9334-e7de6c391184"
      },
      "source": [
        "base.loc[base['views']=='exterior', 'views'] = 0\n",
        "base.loc[base['views']=='interior', 'views'] = 1\n",
        "base['views']"
      ],
      "execution_count": null,
      "outputs": [
        {
          "output_type": "execute_result",
          "data": {
            "text/plain": [
              "0       0\n",
              "1       0\n",
              "2       0\n",
              "3       0\n",
              "4       0\n",
              "       ..\n",
              "3260    0\n",
              "3261    0\n",
              "3262    0\n",
              "3263    0\n",
              "3264    0\n",
              "Name: views, Length: 3265, dtype: object"
            ]
          },
          "metadata": {},
          "execution_count": 18
        }
      ]
    },
    {
      "cell_type": "markdown",
      "metadata": {
        "id": "f_fj99uzCxn2"
      },
      "source": [
        "##Piso"
      ]
    },
    {
      "cell_type": "code",
      "metadata": {
        "colab": {
          "base_uri": "https://localhost:8080/"
        },
        "id": "i1YA_z40C0wG",
        "outputId": "274edcd8-387a-4f0e-f2e7-f68524ad0f28"
      },
      "source": [
        "print(base['floor'].value_counts())\n",
        "\n",
        "plt.figure(figsize=(15, 5))\n",
        "grafico = sns.countplot('floor', data=base)\n",
        "grafico.tick_params(axis='x', rotation=90)"
      ],
      "execution_count": null,
      "outputs": [
        {
          "output_type": "stream",
          "name": "stdout",
          "text": [
            " floor 1        681\n",
            " floor 2        588\n",
            " floor 3        452\n",
            " floor 4        385\n",
            " floor 5        259\n",
            "ground floor    236\n",
            " floor 6        160\n",
            "mezzanine       146\n",
            "Multiple        144\n",
            " floor 7         86\n",
            " floor 8         66\n",
            " floor 9         27\n",
            " floor 10        16\n",
            " floor 14         7\n",
            " floor 12         3\n",
            " floor 11         3\n",
            " floor 16         2\n",
            " floor 25         2\n",
            " floor 21         1\n",
            " floor 19         1\n",
            "Name: floor, dtype: int64\n"
          ]
        },
        {
          "output_type": "stream",
          "name": "stderr",
          "text": [
            "/usr/local/lib/python3.7/dist-packages/seaborn/_decorators.py:43: FutureWarning:\n",
            "\n",
            "Pass the following variable as a keyword arg: x. From version 0.12, the only valid positional argument will be `data`, and passing other arguments without an explicit keyword will result in an error or misinterpretation.\n",
            "\n"
          ]
        },
        {
          "output_type": "display_data",
          "data": {
            "image/png": "[encoded data removed]",
            "text/plain": [
              "<Figure size 1080x360 with 1 Axes>"
            ]
          },
          "metadata": {
            "needs_background": "light"
          }
        }
      ]
    },
    {
      "cell_type": "markdown",
      "metadata": {
        "id": "W2fhQVVmJwDn"
      },
      "source": [
        "Podemos mudar os valores dessa coluna para o número do andar propriamente dito, por exemplo em vez de ser \"floor 1\" ser apenas 1.\n",
        "Devemos tomar cuidado com os 3 tipos especiais que temos nessa coluna, são eles \"ground floor\", \"mezzanine\" e \"Multiple\", mas já trataremos eles, vamos primeiro fazer os casos padrão"
      ]
    },
    {
      "cell_type": "code",
      "metadata": {
        "id": "_hTmmPhdJzcC"
      },
      "source": [
        "for i in range(1,26):\n",
        "  name = ' floor '+str(i)\n",
        "  base.loc[base['floor']==name, 'floor'] = i"
      ],
      "execution_count": null,
      "outputs": []
    },
    {
      "cell_type": "code",
      "metadata": {
        "colab": {
          "base_uri": "https://localhost:8080/"
        },
        "id": "BELbdrZwMRwz",
        "outputId": "281b2c48-3f79-43a1-c868-0ceae1e31d1c"
      },
      "source": [
        "print(base['floor'].value_counts())\n",
        "\n",
        "plt.figure(figsize=(15, 5))\n",
        "grafico = sns.countplot('floor', data=base)\n",
        "grafico.tick_params(axis='x', rotation=90)"
      ],
      "execution_count": null,
      "outputs": [
        {
          "output_type": "stream",
          "name": "stdout",
          "text": [
            "1               681\n",
            "2               588\n",
            "3               452\n",
            "4               385\n",
            "5               259\n",
            "ground floor    236\n",
            "6               160\n",
            "mezzanine       146\n",
            "Multiple        144\n",
            "7                86\n",
            "8                66\n",
            "9                27\n",
            "10               16\n",
            "14                7\n",
            "12                3\n",
            "11                3\n",
            "16                2\n",
            "25                2\n",
            "19                1\n",
            "21                1\n",
            "Name: floor, dtype: int64\n"
          ]
        },
        {
          "output_type": "stream",
          "name": "stderr",
          "text": [
            "/usr/local/lib/python3.7/dist-packages/seaborn/_decorators.py:43: FutureWarning:\n",
            "\n",
            "Pass the following variable as a keyword arg: x. From version 0.12, the only valid positional argument will be `data`, and passing other arguments without an explicit keyword will result in an error or misinterpretation.\n",
            "\n"
          ]
        },
        {
          "output_type": "display_data",
          "data": {
            "image/png": "[encoded data removed]",
            "text/plain": [
              "<Figure size 1080x360 with 1 Axes>"
            ]
          },
          "metadata": {
            "needs_background": "light"
          }
        }
      ]
    },
    {
      "cell_type": "markdown",
      "metadata": {
        "id": "PjjrPbbANjsF"
      },
      "source": [
        "Porém podemos observar que há muito poucos exemplos de andares maiores que 10, portanto podemos agrupa-los na categoria 11 que agora repesenta \"11+\""
      ]
    },
    {
      "cell_type": "code",
      "metadata": {
        "id": "oq0gcCwlOD1h"
      },
      "source": [
        "for i in range(11,26):\n",
        "  base.loc[base['floor']==i, 'floor'] = 11"
      ],
      "execution_count": null,
      "outputs": []
    },
    {
      "cell_type": "code",
      "metadata": {
        "colab": {
          "base_uri": "https://localhost:8080/"
        },
        "id": "QbB_HPUCOKDo",
        "outputId": "d4faa61f-e268-40e9-bf53-7eef11a19985"
      },
      "source": [
        "print(base['floor'].value_counts())\n",
        "\n",
        "plt.figure(figsize=(15, 5))\n",
        "grafico = sns.countplot('floor', data=base)\n",
        "grafico.tick_params(axis='x', rotation=90)"
      ],
      "execution_count": null,
      "outputs": [
        {
          "output_type": "stream",
          "name": "stdout",
          "text": [
            "1               681\n",
            "2               588\n",
            "3               452\n",
            "4               385\n",
            "5               259\n",
            "ground floor    236\n",
            "6               160\n",
            "mezzanine       146\n",
            "Multiple        144\n",
            "7                86\n",
            "8                66\n",
            "9                27\n",
            "11               19\n",
            "10               16\n",
            "Name: floor, dtype: int64\n"
          ]
        },
        {
          "output_type": "stream",
          "name": "stderr",
          "text": [
            "/usr/local/lib/python3.7/dist-packages/seaborn/_decorators.py:43: FutureWarning:\n",
            "\n",
            "Pass the following variable as a keyword arg: x. From version 0.12, the only valid positional argument will be `data`, and passing other arguments without an explicit keyword will result in an error or misinterpretation.\n",
            "\n"
          ]
        },
        {
          "output_type": "display_data",
          "data": {
            "image/png": "[encoded data removed]",
            "text/plain": [
              "<Figure size 1080x360 with 1 Axes>"
            ]
          },
          "metadata": {
            "needs_background": "light"
          }
        }
      ]
    },
    {
      "cell_type": "markdown",
      "metadata": {
        "id": "tqo3ynOkQKY-"
      },
      "source": [
        "Agora fica fácil lidar com os valores especiais, basta considerar o \"ground floor\" como 0,o \"mezzanine\" como 12 e o \"Multiple\" como 13"
      ]
    },
    {
      "cell_type": "code",
      "metadata": {
        "colab": {
          "base_uri": "https://localhost:8080/"
        },
        "id": "QI0ixi5_QKAp",
        "outputId": "c5328e20-750c-46fe-97e1-96b20bca8eb5"
      },
      "source": [
        "base.loc[base['floor']=='ground floor', 'floor'] = 0\n",
        "base.loc[base['floor']=='mezzanine', 'floor'] = 12\n",
        "base.loc[base['floor']=='Multiple', 'floor'] = 13\n",
        "print(base['floor'].value_counts())"
      ],
      "execution_count": null,
      "outputs": [
        {
          "output_type": "stream",
          "name": "stdout",
          "text": [
            "1     681\n",
            "2     588\n",
            "3     452\n",
            "4     385\n",
            "5     259\n",
            "0     236\n",
            "6     160\n",
            "12    146\n",
            "13    144\n",
            "7      86\n",
            "8      66\n",
            "9      27\n",
            "11     19\n",
            "10     16\n",
            "Name: floor, dtype: int64\n"
          ]
        }
      ]
    },
    {
      "cell_type": "markdown",
      "metadata": {
        "id": "88P80HXOBBH-"
      },
      "source": [
        "#Ajustando base de dados"
      ]
    },
    {
      "cell_type": "markdown",
      "metadata": {
        "id": "qaW21eBLJjN8"
      },
      "source": [
        "Agora vamos pegar os 3 tipos de dados que ainda estão como texto e vamos utilizar o método de encoding de variáveis dummies"
      ]
    },
    {
      "cell_type": "code",
      "metadata": {
        "colab": {
          "base_uri": "https://localhost:8080/",
          "height": 278
        },
        "id": "WzHnVK_DAVB3",
        "outputId": "17087a0f-01dd-4439-dcae-1569971d5d2c"
      },
      "source": [
        "colunas_categorias = ['type','district', 'neighborhood']\n",
        "base = pd.get_dummies(data=base, columns=colunas_categorias)\n",
        "display(base.head())"
      ],
      "execution_count": null,
      "outputs": [
        {
          "output_type": "display_data",
          "data": {
            "text/html": [
              "<div>\n",
              "<style scoped>\n",
              "    .dataframe tbody tr th:only-of-type {\n",
              "        vertical-align: middle;\n",
              "    }\n",
              "\n",
              "    .dataframe tbody tr th {\n",
              "        vertical-align: top;\n",
              "    }\n",
              "\n",
              "    .dataframe thead th {\n",
              "        text-align: right;\n",
              "    }\n",
              "</style>\n",
              "<table border=\"1\" class=\"dataframe\">\n",
              "  <thead>\n",
              "    <tr style=\"text-align: right;\">\n",
              "      <th></th>\n",
              "      <th>condition</th>\n",
              "      <th>rooms</th>\n",
              "      <th>area_m2</th>\n",
              "      <th>lift</th>\n",
              "      <th>views</th>\n",
              "      <th>floor</th>\n",
              "      <th>prices</th>\n",
              "      <th>type_Detached</th>\n",
              "      <th>type_Duplex</th>\n",
              "      <th>type_Flat</th>\n",
              "      <th>type_House</th>\n",
              "      <th>type_Others</th>\n",
              "      <th>type_Penthouse</th>\n",
              "      <th>district_Ciutat Vella</th>\n",
              "      <th>district_Eixample</th>\n",
              "      <th>district_Gràcia</th>\n",
              "      <th>district_Horta-Guinardó</th>\n",
              "      <th>district_Les Corts</th>\n",
              "      <th>district_Nou Barris</th>\n",
              "      <th>district_Sant Andreu</th>\n",
              "      <th>district_Sant Martí</th>\n",
              "      <th>district_Sants-Montjuïc</th>\n",
              "      <th>district_Sarrià-Sant Gervasi</th>\n",
              "      <th>neighborhood_Can Baró</th>\n",
              "      <th>neighborhood_Diagonal Mar i el Front Marítim del Poblenou</th>\n",
              "      <th>neighborhood_Horta</th>\n",
              "      <th>neighborhood_Hostafrancs</th>\n",
              "      <th>neighborhood_Navas</th>\n",
              "      <th>neighborhood_Others</th>\n",
              "      <th>neighborhood_Pedralbes</th>\n",
              "      <th>neighborhood_Porta</th>\n",
              "      <th>neighborhood_Provençals del Poblenou</th>\n",
              "      <th>neighborhood_Sant Andreu</th>\n",
              "      <th>neighborhood_Sant Antoni</th>\n",
              "      <th>neighborhood_Sant Gervasi - Galvany</th>\n",
              "      <th>neighborhood_Sant Gervasi - la Bonanova</th>\n",
              "      <th>neighborhood_Sant Martí de Provençals</th>\n",
              "      <th>neighborhood_Sant Pere - Santa Caterina i la Ribera</th>\n",
              "      <th>neighborhood_Sants</th>\n",
              "      <th>neighborhood_Sants - Badal</th>\n",
              "      <th>neighborhood_Sarrià</th>\n",
              "      <th>neighborhood_Vallcarca i els Penitents</th>\n",
              "      <th>neighborhood_Vallvidrera - el Tibidabo i les Planes</th>\n",
              "      <th>neighborhood_Vilapicina i la Torre Llobeta</th>\n",
              "      <th>neighborhood_el Baix Guinardó</th>\n",
              "      <th>neighborhood_el Barri Gòtic</th>\n",
              "      <th>neighborhood_el Besòs i el Maresme</th>\n",
              "      <th>neighborhood_el Camp d'en Grassot i Gràcia Nova</th>\n",
              "      <th>neighborhood_el Camp de l'Arpa del Clot</th>\n",
              "      <th>neighborhood_el Carmel</th>\n",
              "      <th>neighborhood_el Clot</th>\n",
              "      <th>neighborhood_el Coll</th>\n",
              "      <th>neighborhood_el Congrés i els Indians</th>\n",
              "      <th>neighborhood_el Fort Pienc</th>\n",
              "      <th>neighborhood_el Guinardó</th>\n",
              "      <th>neighborhood_el Parc i la Llacuna del Poblenou</th>\n",
              "      <th>neighborhood_el Poble Sec - AEI Parc de Montjuïc</th>\n",
              "      <th>neighborhood_el Poblenou</th>\n",
              "      <th>neighborhood_el Putxet i el Farró</th>\n",
              "      <th>neighborhood_el Raval</th>\n",
              "      <th>neighborhood_l'Antiga Esquerra de l'Eixample</th>\n",
              "      <th>neighborhood_la Barceloneta</th>\n",
              "      <th>neighborhood_la Bordeta</th>\n",
              "      <th>neighborhood_la Dreta de l'Eixample</th>\n",
              "      <th>neighborhood_la Font d'en Fargues</th>\n",
              "      <th>neighborhood_la Font de la Guatlla</th>\n",
              "      <th>neighborhood_la Marina de Port</th>\n",
              "      <th>neighborhood_la Maternitat i Sant Ramon</th>\n",
              "      <th>neighborhood_la Nova Esquerra de l'Eixample</th>\n",
              "      <th>neighborhood_la Prosperitat</th>\n",
              "      <th>neighborhood_la Sagrada Família</th>\n",
              "      <th>neighborhood_la Sagrera</th>\n",
              "      <th>neighborhood_la Salut</th>\n",
              "      <th>neighborhood_la Teixonera</th>\n",
              "      <th>neighborhood_la Verneda i la Pau</th>\n",
              "      <th>neighborhood_la Vila Olímpica del Poblenou</th>\n",
              "      <th>neighborhood_la Vila de Gràcia</th>\n",
              "      <th>neighborhood_les Corts</th>\n",
              "      <th>neighborhood_les Tres Torres</th>\n",
              "    </tr>\n",
              "  </thead>\n",
              "  <tbody>\n",
              "    <tr>\n",
              "      <th>0</th>\n",
              "      <td>1</td>\n",
              "      <td>3</td>\n",
              "      <td>351</td>\n",
              "      <td>1</td>\n",
              "      <td>0</td>\n",
              "      <td>1</td>\n",
              "      <td>2300000</td>\n",
              "      <td>0</td>\n",
              "      <td>0</td>\n",
              "      <td>1</td>\n",
              "      <td>0</td>\n",
              "      <td>0</td>\n",
              "      <td>0</td>\n",
              "      <td>0</td>\n",
              "      <td>1</td>\n",
              "      <td>0</td>\n",
              "      <td>0</td>\n",
              "      <td>0</td>\n",
              "      <td>0</td>\n",
              "      <td>0</td>\n",
              "      <td>0</td>\n",
              "      <td>0</td>\n",
              "      <td>0</td>\n",
              "      <td>0</td>\n",
              "      <td>0</td>\n",
              "      <td>0</td>\n",
              "      <td>0</td>\n",
              "      <td>0</td>\n",
              "      <td>0</td>\n",
              "      <td>0</td>\n",
              "      <td>0</td>\n",
              "      <td>0</td>\n",
              "      <td>0</td>\n",
              "      <td>0</td>\n",
              "      <td>0</td>\n",
              "      <td>0</td>\n",
              "      <td>0</td>\n",
              "      <td>0</td>\n",
              "      <td>0</td>\n",
              "      <td>0</td>\n",
              "      <td>0</td>\n",
              "      <td>0</td>\n",
              "      <td>0</td>\n",
              "      <td>0</td>\n",
              "      <td>0</td>\n",
              "      <td>0</td>\n",
              "      <td>0</td>\n",
              "      <td>0</td>\n",
              "      <td>0</td>\n",
              "      <td>0</td>\n",
              "      <td>0</td>\n",
              "      <td>0</td>\n",
              "      <td>0</td>\n",
              "      <td>0</td>\n",
              "      <td>0</td>\n",
              "      <td>0</td>\n",
              "      <td>0</td>\n",
              "      <td>0</td>\n",
              "      <td>0</td>\n",
              "      <td>0</td>\n",
              "      <td>0</td>\n",
              "      <td>0</td>\n",
              "      <td>0</td>\n",
              "      <td>1</td>\n",
              "      <td>0</td>\n",
              "      <td>0</td>\n",
              "      <td>0</td>\n",
              "      <td>0</td>\n",
              "      <td>0</td>\n",
              "      <td>0</td>\n",
              "      <td>0</td>\n",
              "      <td>0</td>\n",
              "      <td>0</td>\n",
              "      <td>0</td>\n",
              "      <td>0</td>\n",
              "      <td>0</td>\n",
              "      <td>0</td>\n",
              "      <td>0</td>\n",
              "      <td>0</td>\n",
              "    </tr>\n",
              "    <tr>\n",
              "      <th>1</th>\n",
              "      <td>1</td>\n",
              "      <td>5</td>\n",
              "      <td>298</td>\n",
              "      <td>1</td>\n",
              "      <td>0</td>\n",
              "      <td>3</td>\n",
              "      <td>1750000</td>\n",
              "      <td>0</td>\n",
              "      <td>0</td>\n",
              "      <td>1</td>\n",
              "      <td>0</td>\n",
              "      <td>0</td>\n",
              "      <td>0</td>\n",
              "      <td>0</td>\n",
              "      <td>0</td>\n",
              "      <td>0</td>\n",
              "      <td>0</td>\n",
              "      <td>0</td>\n",
              "      <td>0</td>\n",
              "      <td>0</td>\n",
              "      <td>0</td>\n",
              "      <td>0</td>\n",
              "      <td>1</td>\n",
              "      <td>0</td>\n",
              "      <td>0</td>\n",
              "      <td>0</td>\n",
              "      <td>0</td>\n",
              "      <td>0</td>\n",
              "      <td>0</td>\n",
              "      <td>0</td>\n",
              "      <td>0</td>\n",
              "      <td>0</td>\n",
              "      <td>0</td>\n",
              "      <td>0</td>\n",
              "      <td>1</td>\n",
              "      <td>0</td>\n",
              "      <td>0</td>\n",
              "      <td>0</td>\n",
              "      <td>0</td>\n",
              "      <td>0</td>\n",
              "      <td>0</td>\n",
              "      <td>0</td>\n",
              "      <td>0</td>\n",
              "      <td>0</td>\n",
              "      <td>0</td>\n",
              "      <td>0</td>\n",
              "      <td>0</td>\n",
              "      <td>0</td>\n",
              "      <td>0</td>\n",
              "      <td>0</td>\n",
              "      <td>0</td>\n",
              "      <td>0</td>\n",
              "      <td>0</td>\n",
              "      <td>0</td>\n",
              "      <td>0</td>\n",
              "      <td>0</td>\n",
              "      <td>0</td>\n",
              "      <td>0</td>\n",
              "      <td>0</td>\n",
              "      <td>0</td>\n",
              "      <td>0</td>\n",
              "      <td>0</td>\n",
              "      <td>0</td>\n",
              "      <td>0</td>\n",
              "      <td>0</td>\n",
              "      <td>0</td>\n",
              "      <td>0</td>\n",
              "      <td>0</td>\n",
              "      <td>0</td>\n",
              "      <td>0</td>\n",
              "      <td>0</td>\n",
              "      <td>0</td>\n",
              "      <td>0</td>\n",
              "      <td>0</td>\n",
              "      <td>0</td>\n",
              "      <td>0</td>\n",
              "      <td>0</td>\n",
              "      <td>0</td>\n",
              "      <td>0</td>\n",
              "    </tr>\n",
              "    <tr>\n",
              "      <th>2</th>\n",
              "      <td>1</td>\n",
              "      <td>2</td>\n",
              "      <td>90</td>\n",
              "      <td>1</td>\n",
              "      <td>0</td>\n",
              "      <td>7</td>\n",
              "      <td>590000</td>\n",
              "      <td>0</td>\n",
              "      <td>0</td>\n",
              "      <td>0</td>\n",
              "      <td>0</td>\n",
              "      <td>0</td>\n",
              "      <td>1</td>\n",
              "      <td>0</td>\n",
              "      <td>1</td>\n",
              "      <td>0</td>\n",
              "      <td>0</td>\n",
              "      <td>0</td>\n",
              "      <td>0</td>\n",
              "      <td>0</td>\n",
              "      <td>0</td>\n",
              "      <td>0</td>\n",
              "      <td>0</td>\n",
              "      <td>0</td>\n",
              "      <td>0</td>\n",
              "      <td>0</td>\n",
              "      <td>0</td>\n",
              "      <td>0</td>\n",
              "      <td>0</td>\n",
              "      <td>0</td>\n",
              "      <td>0</td>\n",
              "      <td>0</td>\n",
              "      <td>0</td>\n",
              "      <td>1</td>\n",
              "      <td>0</td>\n",
              "      <td>0</td>\n",
              "      <td>0</td>\n",
              "      <td>0</td>\n",
              "      <td>0</td>\n",
              "      <td>0</td>\n",
              "      <td>0</td>\n",
              "      <td>0</td>\n",
              "      <td>0</td>\n",
              "      <td>0</td>\n",
              "      <td>0</td>\n",
              "      <td>0</td>\n",
              "      <td>0</td>\n",
              "      <td>0</td>\n",
              "      <td>0</td>\n",
              "      <td>0</td>\n",
              "      <td>0</td>\n",
              "      <td>0</td>\n",
              "      <td>0</td>\n",
              "      <td>0</td>\n",
              "      <td>0</td>\n",
              "      <td>0</td>\n",
              "      <td>0</td>\n",
              "      <td>0</td>\n",
              "      <td>0</td>\n",
              "      <td>0</td>\n",
              "      <td>0</td>\n",
              "      <td>0</td>\n",
              "      <td>0</td>\n",
              "      <td>0</td>\n",
              "      <td>0</td>\n",
              "      <td>0</td>\n",
              "      <td>0</td>\n",
              "      <td>0</td>\n",
              "      <td>0</td>\n",
              "      <td>0</td>\n",
              "      <td>0</td>\n",
              "      <td>0</td>\n",
              "      <td>0</td>\n",
              "      <td>0</td>\n",
              "      <td>0</td>\n",
              "      <td>0</td>\n",
              "      <td>0</td>\n",
              "      <td>0</td>\n",
              "      <td>0</td>\n",
              "    </tr>\n",
              "    <tr>\n",
              "      <th>3</th>\n",
              "      <td>1</td>\n",
              "      <td>2</td>\n",
              "      <td>130</td>\n",
              "      <td>1</td>\n",
              "      <td>0</td>\n",
              "      <td>1</td>\n",
              "      <td>450000</td>\n",
              "      <td>0</td>\n",
              "      <td>0</td>\n",
              "      <td>1</td>\n",
              "      <td>0</td>\n",
              "      <td>0</td>\n",
              "      <td>0</td>\n",
              "      <td>0</td>\n",
              "      <td>1</td>\n",
              "      <td>0</td>\n",
              "      <td>0</td>\n",
              "      <td>0</td>\n",
              "      <td>0</td>\n",
              "      <td>0</td>\n",
              "      <td>0</td>\n",
              "      <td>0</td>\n",
              "      <td>0</td>\n",
              "      <td>0</td>\n",
              "      <td>0</td>\n",
              "      <td>0</td>\n",
              "      <td>0</td>\n",
              "      <td>0</td>\n",
              "      <td>0</td>\n",
              "      <td>0</td>\n",
              "      <td>0</td>\n",
              "      <td>0</td>\n",
              "      <td>0</td>\n",
              "      <td>0</td>\n",
              "      <td>0</td>\n",
              "      <td>0</td>\n",
              "      <td>0</td>\n",
              "      <td>0</td>\n",
              "      <td>0</td>\n",
              "      <td>0</td>\n",
              "      <td>0</td>\n",
              "      <td>0</td>\n",
              "      <td>0</td>\n",
              "      <td>0</td>\n",
              "      <td>0</td>\n",
              "      <td>0</td>\n",
              "      <td>0</td>\n",
              "      <td>0</td>\n",
              "      <td>0</td>\n",
              "      <td>0</td>\n",
              "      <td>0</td>\n",
              "      <td>0</td>\n",
              "      <td>0</td>\n",
              "      <td>0</td>\n",
              "      <td>0</td>\n",
              "      <td>0</td>\n",
              "      <td>0</td>\n",
              "      <td>0</td>\n",
              "      <td>0</td>\n",
              "      <td>0</td>\n",
              "      <td>0</td>\n",
              "      <td>0</td>\n",
              "      <td>0</td>\n",
              "      <td>1</td>\n",
              "      <td>0</td>\n",
              "      <td>0</td>\n",
              "      <td>0</td>\n",
              "      <td>0</td>\n",
              "      <td>0</td>\n",
              "      <td>0</td>\n",
              "      <td>0</td>\n",
              "      <td>0</td>\n",
              "      <td>0</td>\n",
              "      <td>0</td>\n",
              "      <td>0</td>\n",
              "      <td>0</td>\n",
              "      <td>0</td>\n",
              "      <td>0</td>\n",
              "      <td>0</td>\n",
              "    </tr>\n",
              "    <tr>\n",
              "      <th>4</th>\n",
              "      <td>1</td>\n",
              "      <td>3</td>\n",
              "      <td>110</td>\n",
              "      <td>0</td>\n",
              "      <td>0</td>\n",
              "      <td>13</td>\n",
              "      <td>430000</td>\n",
              "      <td>0</td>\n",
              "      <td>0</td>\n",
              "      <td>0</td>\n",
              "      <td>0</td>\n",
              "      <td>1</td>\n",
              "      <td>0</td>\n",
              "      <td>0</td>\n",
              "      <td>0</td>\n",
              "      <td>0</td>\n",
              "      <td>1</td>\n",
              "      <td>0</td>\n",
              "      <td>0</td>\n",
              "      <td>0</td>\n",
              "      <td>0</td>\n",
              "      <td>0</td>\n",
              "      <td>0</td>\n",
              "      <td>1</td>\n",
              "      <td>0</td>\n",
              "      <td>0</td>\n",
              "      <td>0</td>\n",
              "      <td>0</td>\n",
              "      <td>0</td>\n",
              "      <td>0</td>\n",
              "      <td>0</td>\n",
              "      <td>0</td>\n",
              "      <td>0</td>\n",
              "      <td>0</td>\n",
              "      <td>0</td>\n",
              "      <td>0</td>\n",
              "      <td>0</td>\n",
              "      <td>0</td>\n",
              "      <td>0</td>\n",
              "      <td>0</td>\n",
              "      <td>0</td>\n",
              "      <td>0</td>\n",
              "      <td>0</td>\n",
              "      <td>0</td>\n",
              "      <td>0</td>\n",
              "      <td>0</td>\n",
              "      <td>0</td>\n",
              "      <td>0</td>\n",
              "      <td>0</td>\n",
              "      <td>0</td>\n",
              "      <td>0</td>\n",
              "      <td>0</td>\n",
              "      <td>0</td>\n",
              "      <td>0</td>\n",
              "      <td>0</td>\n",
              "      <td>0</td>\n",
              "      <td>0</td>\n",
              "      <td>0</td>\n",
              "      <td>0</td>\n",
              "      <td>0</td>\n",
              "      <td>0</td>\n",
              "      <td>0</td>\n",
              "      <td>0</td>\n",
              "      <td>0</td>\n",
              "      <td>0</td>\n",
              "      <td>0</td>\n",
              "      <td>0</td>\n",
              "      <td>0</td>\n",
              "      <td>0</td>\n",
              "      <td>0</td>\n",
              "      <td>0</td>\n",
              "      <td>0</td>\n",
              "      <td>0</td>\n",
              "      <td>0</td>\n",
              "      <td>0</td>\n",
              "      <td>0</td>\n",
              "      <td>0</td>\n",
              "      <td>0</td>\n",
              "      <td>0</td>\n",
              "    </tr>\n",
              "  </tbody>\n",
              "</table>\n",
              "</div>"
            ],
            "text/plain": [
              "  condition  rooms  ...  neighborhood_les Corts neighborhood_les Tres Torres\n",
              "0         1      3  ...                       0                            0\n",
              "1         1      5  ...                       0                            0\n",
              "2         1      2  ...                       0                            0\n",
              "3         1      2  ...                       0                            0\n",
              "4         1      3  ...                       0                            0\n",
              "\n",
              "[5 rows x 79 columns]"
            ]
          },
          "metadata": {}
        }
      ]
    },
    {
      "cell_type": "markdown",
      "metadata": {
        "id": "sAXKuj_QRclm"
      },
      "source": [
        "#Separando as entradas das saidas"
      ]
    },
    {
      "cell_type": "code",
      "metadata": {
        "colab": {
          "base_uri": "https://localhost:8080/",
          "height": 496
        },
        "id": "WBsc-zeyRkwS",
        "outputId": "16a594da-6400-44ce-8d27-9b0a529b0f04"
      },
      "source": [
        "x_geral = base.drop(columns=['prices'])\n",
        "x_geral"
      ],
      "execution_count": null,
      "outputs": [
        {
          "output_type": "execute_result",
          "data": {
            "text/html": [
              "<div>\n",
              "<style scoped>\n",
              "    .dataframe tbody tr th:only-of-type {\n",
              "        vertical-align: middle;\n",
              "    }\n",
              "\n",
              "    .dataframe tbody tr th {\n",
              "        vertical-align: top;\n",
              "    }\n",
              "\n",
              "    .dataframe thead th {\n",
              "        text-align: right;\n",
              "    }\n",
              "</style>\n",
              "<table border=\"1\" class=\"dataframe\">\n",
              "  <thead>\n",
              "    <tr style=\"text-align: right;\">\n",
              "      <th></th>\n",
              "      <th>condition</th>\n",
              "      <th>rooms</th>\n",
              "      <th>area_m2</th>\n",
              "      <th>lift</th>\n",
              "      <th>views</th>\n",
              "      <th>floor</th>\n",
              "      <th>type_Detached</th>\n",
              "      <th>type_Duplex</th>\n",
              "      <th>type_Flat</th>\n",
              "      <th>type_House</th>\n",
              "      <th>type_Others</th>\n",
              "      <th>type_Penthouse</th>\n",
              "      <th>district_Ciutat Vella</th>\n",
              "      <th>district_Eixample</th>\n",
              "      <th>district_Gràcia</th>\n",
              "      <th>district_Horta-Guinardó</th>\n",
              "      <th>district_Les Corts</th>\n",
              "      <th>district_Nou Barris</th>\n",
              "      <th>district_Sant Andreu</th>\n",
              "      <th>district_Sant Martí</th>\n",
              "      <th>district_Sants-Montjuïc</th>\n",
              "      <th>district_Sarrià-Sant Gervasi</th>\n",
              "      <th>neighborhood_Can Baró</th>\n",
              "      <th>neighborhood_Diagonal Mar i el Front Marítim del Poblenou</th>\n",
              "      <th>neighborhood_Horta</th>\n",
              "      <th>neighborhood_Hostafrancs</th>\n",
              "      <th>neighborhood_Navas</th>\n",
              "      <th>neighborhood_Others</th>\n",
              "      <th>neighborhood_Pedralbes</th>\n",
              "      <th>neighborhood_Porta</th>\n",
              "      <th>neighborhood_Provençals del Poblenou</th>\n",
              "      <th>neighborhood_Sant Andreu</th>\n",
              "      <th>neighborhood_Sant Antoni</th>\n",
              "      <th>neighborhood_Sant Gervasi - Galvany</th>\n",
              "      <th>neighborhood_Sant Gervasi - la Bonanova</th>\n",
              "      <th>neighborhood_Sant Martí de Provençals</th>\n",
              "      <th>neighborhood_Sant Pere - Santa Caterina i la Ribera</th>\n",
              "      <th>neighborhood_Sants</th>\n",
              "      <th>neighborhood_Sants - Badal</th>\n",
              "      <th>neighborhood_Sarrià</th>\n",
              "      <th>neighborhood_Vallcarca i els Penitents</th>\n",
              "      <th>neighborhood_Vallvidrera - el Tibidabo i les Planes</th>\n",
              "      <th>neighborhood_Vilapicina i la Torre Llobeta</th>\n",
              "      <th>neighborhood_el Baix Guinardó</th>\n",
              "      <th>neighborhood_el Barri Gòtic</th>\n",
              "      <th>neighborhood_el Besòs i el Maresme</th>\n",
              "      <th>neighborhood_el Camp d'en Grassot i Gràcia Nova</th>\n",
              "      <th>neighborhood_el Camp de l'Arpa del Clot</th>\n",
              "      <th>neighborhood_el Carmel</th>\n",
              "      <th>neighborhood_el Clot</th>\n",
              "      <th>neighborhood_el Coll</th>\n",
              "      <th>neighborhood_el Congrés i els Indians</th>\n",
              "      <th>neighborhood_el Fort Pienc</th>\n",
              "      <th>neighborhood_el Guinardó</th>\n",
              "      <th>neighborhood_el Parc i la Llacuna del Poblenou</th>\n",
              "      <th>neighborhood_el Poble Sec - AEI Parc de Montjuïc</th>\n",
              "      <th>neighborhood_el Poblenou</th>\n",
              "      <th>neighborhood_el Putxet i el Farró</th>\n",
              "      <th>neighborhood_el Raval</th>\n",
              "      <th>neighborhood_l'Antiga Esquerra de l'Eixample</th>\n",
              "      <th>neighborhood_la Barceloneta</th>\n",
              "      <th>neighborhood_la Bordeta</th>\n",
              "      <th>neighborhood_la Dreta de l'Eixample</th>\n",
              "      <th>neighborhood_la Font d'en Fargues</th>\n",
              "      <th>neighborhood_la Font de la Guatlla</th>\n",
              "      <th>neighborhood_la Marina de Port</th>\n",
              "      <th>neighborhood_la Maternitat i Sant Ramon</th>\n",
              "      <th>neighborhood_la Nova Esquerra de l'Eixample</th>\n",
              "      <th>neighborhood_la Prosperitat</th>\n",
              "      <th>neighborhood_la Sagrada Família</th>\n",
              "      <th>neighborhood_la Sagrera</th>\n",
              "      <th>neighborhood_la Salut</th>\n",
              "      <th>neighborhood_la Teixonera</th>\n",
              "      <th>neighborhood_la Verneda i la Pau</th>\n",
              "      <th>neighborhood_la Vila Olímpica del Poblenou</th>\n",
              "      <th>neighborhood_la Vila de Gràcia</th>\n",
              "      <th>neighborhood_les Corts</th>\n",
              "      <th>neighborhood_les Tres Torres</th>\n",
              "    </tr>\n",
              "  </thead>\n",
              "  <tbody>\n",
              "    <tr>\n",
              "      <th>0</th>\n",
              "      <td>1</td>\n",
              "      <td>3</td>\n",
              "      <td>351</td>\n",
              "      <td>1</td>\n",
              "      <td>0</td>\n",
              "      <td>1</td>\n",
              "      <td>0</td>\n",
              "      <td>0</td>\n",
              "      <td>1</td>\n",
              "      <td>0</td>\n",
              "      <td>0</td>\n",
              "      <td>0</td>\n",
              "      <td>0</td>\n",
              "      <td>1</td>\n",
              "      <td>0</td>\n",
              "      <td>0</td>\n",
              "      <td>0</td>\n",
              "      <td>0</td>\n",
              "      <td>0</td>\n",
              "      <td>0</td>\n",
              "      <td>0</td>\n",
              "      <td>0</td>\n",
              "      <td>0</td>\n",
              "      <td>0</td>\n",
              "      <td>0</td>\n",
              "      <td>0</td>\n",
              "      <td>0</td>\n",
              "      <td>0</td>\n",
              "      <td>0</td>\n",
              "      <td>0</td>\n",
              "      <td>0</td>\n",
              "      <td>0</td>\n",
              "      <td>0</td>\n",
              "      <td>0</td>\n",
              "      <td>0</td>\n",
              "      <td>0</td>\n",
              "      <td>0</td>\n",
              "      <td>0</td>\n",
              "      <td>0</td>\n",
              "      <td>0</td>\n",
              "      <td>0</td>\n",
              "      <td>0</td>\n",
              "      <td>0</td>\n",
              "      <td>0</td>\n",
              "      <td>0</td>\n",
              "      <td>0</td>\n",
              "      <td>0</td>\n",
              "      <td>0</td>\n",
              "      <td>0</td>\n",
              "      <td>0</td>\n",
              "      <td>0</td>\n",
              "      <td>0</td>\n",
              "      <td>0</td>\n",
              "      <td>0</td>\n",
              "      <td>0</td>\n",
              "      <td>0</td>\n",
              "      <td>0</td>\n",
              "      <td>0</td>\n",
              "      <td>0</td>\n",
              "      <td>0</td>\n",
              "      <td>0</td>\n",
              "      <td>0</td>\n",
              "      <td>1</td>\n",
              "      <td>0</td>\n",
              "      <td>0</td>\n",
              "      <td>0</td>\n",
              "      <td>0</td>\n",
              "      <td>0</td>\n",
              "      <td>0</td>\n",
              "      <td>0</td>\n",
              "      <td>0</td>\n",
              "      <td>0</td>\n",
              "      <td>0</td>\n",
              "      <td>0</td>\n",
              "      <td>0</td>\n",
              "      <td>0</td>\n",
              "      <td>0</td>\n",
              "      <td>0</td>\n",
              "    </tr>\n",
              "    <tr>\n",
              "      <th>1</th>\n",
              "      <td>1</td>\n",
              "      <td>5</td>\n",
              "      <td>298</td>\n",
              "      <td>1</td>\n",
              "      <td>0</td>\n",
              "      <td>3</td>\n",
              "      <td>0</td>\n",
              "      <td>0</td>\n",
              "      <td>1</td>\n",
              "      <td>0</td>\n",
              "      <td>0</td>\n",
              "      <td>0</td>\n",
              "      <td>0</td>\n",
              "      <td>0</td>\n",
              "      <td>0</td>\n",
              "      <td>0</td>\n",
              "      <td>0</td>\n",
              "      <td>0</td>\n",
              "      <td>0</td>\n",
              "      <td>0</td>\n",
              "      <td>0</td>\n",
              "      <td>1</td>\n",
              "      <td>0</td>\n",
              "      <td>0</td>\n",
              "      <td>0</td>\n",
              "      <td>0</td>\n",
              "      <td>0</td>\n",
              "      <td>0</td>\n",
              "      <td>0</td>\n",
              "      <td>0</td>\n",
              "      <td>0</td>\n",
              "      <td>0</td>\n",
              "      <td>0</td>\n",
              "      <td>1</td>\n",
              "      <td>0</td>\n",
              "      <td>0</td>\n",
              "      <td>0</td>\n",
              "      <td>0</td>\n",
              "      <td>0</td>\n",
              "      <td>0</td>\n",
              "      <td>0</td>\n",
              "      <td>0</td>\n",
              "      <td>0</td>\n",
              "      <td>0</td>\n",
              "      <td>0</td>\n",
              "      <td>0</td>\n",
              "      <td>0</td>\n",
              "      <td>0</td>\n",
              "      <td>0</td>\n",
              "      <td>0</td>\n",
              "      <td>0</td>\n",
              "      <td>0</td>\n",
              "      <td>0</td>\n",
              "      <td>0</td>\n",
              "      <td>0</td>\n",
              "      <td>0</td>\n",
              "      <td>0</td>\n",
              "      <td>0</td>\n",
              "      <td>0</td>\n",
              "      <td>0</td>\n",
              "      <td>0</td>\n",
              "      <td>0</td>\n",
              "      <td>0</td>\n",
              "      <td>0</td>\n",
              "      <td>0</td>\n",
              "      <td>0</td>\n",
              "      <td>0</td>\n",
              "      <td>0</td>\n",
              "      <td>0</td>\n",
              "      <td>0</td>\n",
              "      <td>0</td>\n",
              "      <td>0</td>\n",
              "      <td>0</td>\n",
              "      <td>0</td>\n",
              "      <td>0</td>\n",
              "      <td>0</td>\n",
              "      <td>0</td>\n",
              "      <td>0</td>\n",
              "    </tr>\n",
              "    <tr>\n",
              "      <th>2</th>\n",
              "      <td>1</td>\n",
              "      <td>2</td>\n",
              "      <td>90</td>\n",
              "      <td>1</td>\n",
              "      <td>0</td>\n",
              "      <td>7</td>\n",
              "      <td>0</td>\n",
              "      <td>0</td>\n",
              "      <td>0</td>\n",
              "      <td>0</td>\n",
              "      <td>0</td>\n",
              "      <td>1</td>\n",
              "      <td>0</td>\n",
              "      <td>1</td>\n",
              "      <td>0</td>\n",
              "      <td>0</td>\n",
              "      <td>0</td>\n",
              "      <td>0</td>\n",
              "      <td>0</td>\n",
              "      <td>0</td>\n",
              "      <td>0</td>\n",
              "      <td>0</td>\n",
              "      <td>0</td>\n",
              "      <td>0</td>\n",
              "      <td>0</td>\n",
              "      <td>0</td>\n",
              "      <td>0</td>\n",
              "      <td>0</td>\n",
              "      <td>0</td>\n",
              "      <td>0</td>\n",
              "      <td>0</td>\n",
              "      <td>0</td>\n",
              "      <td>1</td>\n",
              "      <td>0</td>\n",
              "      <td>0</td>\n",
              "      <td>0</td>\n",
              "      <td>0</td>\n",
              "      <td>0</td>\n",
              "      <td>0</td>\n",
              "      <td>0</td>\n",
              "      <td>0</td>\n",
              "      <td>0</td>\n",
              "      <td>0</td>\n",
              "      <td>0</td>\n",
              "      <td>0</td>\n",
              "      <td>0</td>\n",
              "      <td>0</td>\n",
              "      <td>0</td>\n",
              "      <td>0</td>\n",
              "      <td>0</td>\n",
              "      <td>0</td>\n",
              "      <td>0</td>\n",
              "      <td>0</td>\n",
              "      <td>0</td>\n",
              "      <td>0</td>\n",
              "      <td>0</td>\n",
              "      <td>0</td>\n",
              "      <td>0</td>\n",
              "      <td>0</td>\n",
              "      <td>0</td>\n",
              "      <td>0</td>\n",
              "      <td>0</td>\n",
              "      <td>0</td>\n",
              "      <td>0</td>\n",
              "      <td>0</td>\n",
              "      <td>0</td>\n",
              "      <td>0</td>\n",
              "      <td>0</td>\n",
              "      <td>0</td>\n",
              "      <td>0</td>\n",
              "      <td>0</td>\n",
              "      <td>0</td>\n",
              "      <td>0</td>\n",
              "      <td>0</td>\n",
              "      <td>0</td>\n",
              "      <td>0</td>\n",
              "      <td>0</td>\n",
              "      <td>0</td>\n",
              "    </tr>\n",
              "    <tr>\n",
              "      <th>3</th>\n",
              "      <td>1</td>\n",
              "      <td>2</td>\n",
              "      <td>130</td>\n",
              "      <td>1</td>\n",
              "      <td>0</td>\n",
              "      <td>1</td>\n",
              "      <td>0</td>\n",
              "      <td>0</td>\n",
              "      <td>1</td>\n",
              "      <td>0</td>\n",
              "      <td>0</td>\n",
              "      <td>0</td>\n",
              "      <td>0</td>\n",
              "      <td>1</td>\n",
              "      <td>0</td>\n",
              "      <td>0</td>\n",
              "      <td>0</td>\n",
              "      <td>0</td>\n",
              "      <td>0</td>\n",
              "      <td>0</td>\n",
              "      <td>0</td>\n",
              "      <td>0</td>\n",
              "      <td>0</td>\n",
              "      <td>0</td>\n",
              "      <td>0</td>\n",
              "      <td>0</td>\n",
              "      <td>0</td>\n",
              "      <td>0</td>\n",
              "      <td>0</td>\n",
              "      <td>0</td>\n",
              "      <td>0</td>\n",
              "      <td>0</td>\n",
              "      <td>0</td>\n",
              "      <td>0</td>\n",
              "      <td>0</td>\n",
              "      <td>0</td>\n",
              "      <td>0</td>\n",
              "      <td>0</td>\n",
              "      <td>0</td>\n",
              "      <td>0</td>\n",
              "      <td>0</td>\n",
              "      <td>0</td>\n",
              "      <td>0</td>\n",
              "      <td>0</td>\n",
              "      <td>0</td>\n",
              "      <td>0</td>\n",
              "      <td>0</td>\n",
              "      <td>0</td>\n",
              "      <td>0</td>\n",
              "      <td>0</td>\n",
              "      <td>0</td>\n",
              "      <td>0</td>\n",
              "      <td>0</td>\n",
              "      <td>0</td>\n",
              "      <td>0</td>\n",
              "      <td>0</td>\n",
              "      <td>0</td>\n",
              "      <td>0</td>\n",
              "      <td>0</td>\n",
              "      <td>0</td>\n",
              "      <td>0</td>\n",
              "      <td>0</td>\n",
              "      <td>1</td>\n",
              "      <td>0</td>\n",
              "      <td>0</td>\n",
              "      <td>0</td>\n",
              "      <td>0</td>\n",
              "      <td>0</td>\n",
              "      <td>0</td>\n",
              "      <td>0</td>\n",
              "      <td>0</td>\n",
              "      <td>0</td>\n",
              "      <td>0</td>\n",
              "      <td>0</td>\n",
              "      <td>0</td>\n",
              "      <td>0</td>\n",
              "      <td>0</td>\n",
              "      <td>0</td>\n",
              "    </tr>\n",
              "    <tr>\n",
              "      <th>4</th>\n",
              "      <td>1</td>\n",
              "      <td>3</td>\n",
              "      <td>110</td>\n",
              "      <td>0</td>\n",
              "      <td>0</td>\n",
              "      <td>13</td>\n",
              "      <td>0</td>\n",
              "      <td>0</td>\n",
              "      <td>0</td>\n",
              "      <td>0</td>\n",
              "      <td>1</td>\n",
              "      <td>0</td>\n",
              "      <td>0</td>\n",
              "      <td>0</td>\n",
              "      <td>0</td>\n",
              "      <td>1</td>\n",
              "      <td>0</td>\n",
              "      <td>0</td>\n",
              "      <td>0</td>\n",
              "      <td>0</td>\n",
              "      <td>0</td>\n",
              "      <td>0</td>\n",
              "      <td>1</td>\n",
              "      <td>0</td>\n",
              "      <td>0</td>\n",
              "      <td>0</td>\n",
              "      <td>0</td>\n",
              "      <td>0</td>\n",
              "      <td>0</td>\n",
              "      <td>0</td>\n",
              "      <td>0</td>\n",
              "      <td>0</td>\n",
              "      <td>0</td>\n",
              "      <td>0</td>\n",
              "      <td>0</td>\n",
              "      <td>0</td>\n",
              "      <td>0</td>\n",
              "      <td>0</td>\n",
              "      <td>0</td>\n",
              "      <td>0</td>\n",
              "      <td>0</td>\n",
              "      <td>0</td>\n",
              "      <td>0</td>\n",
              "      <td>0</td>\n",
              "      <td>0</td>\n",
              "      <td>0</td>\n",
              "      <td>0</td>\n",
              "      <td>0</td>\n",
              "      <td>0</td>\n",
              "      <td>0</td>\n",
              "      <td>0</td>\n",
              "      <td>0</td>\n",
              "      <td>0</td>\n",
              "      <td>0</td>\n",
              "      <td>0</td>\n",
              "      <td>0</td>\n",
              "      <td>0</td>\n",
              "      <td>0</td>\n",
              "      <td>0</td>\n",
              "      <td>0</td>\n",
              "      <td>0</td>\n",
              "      <td>0</td>\n",
              "      <td>0</td>\n",
              "      <td>0</td>\n",
              "      <td>0</td>\n",
              "      <td>0</td>\n",
              "      <td>0</td>\n",
              "      <td>0</td>\n",
              "      <td>0</td>\n",
              "      <td>0</td>\n",
              "      <td>0</td>\n",
              "      <td>0</td>\n",
              "      <td>0</td>\n",
              "      <td>0</td>\n",
              "      <td>0</td>\n",
              "      <td>0</td>\n",
              "      <td>0</td>\n",
              "      <td>0</td>\n",
              "    </tr>\n",
              "    <tr>\n",
              "      <th>...</th>\n",
              "      <td>...</td>\n",
              "      <td>...</td>\n",
              "      <td>...</td>\n",
              "      <td>...</td>\n",
              "      <td>...</td>\n",
              "      <td>...</td>\n",
              "      <td>...</td>\n",
              "      <td>...</td>\n",
              "      <td>...</td>\n",
              "      <td>...</td>\n",
              "      <td>...</td>\n",
              "      <td>...</td>\n",
              "      <td>...</td>\n",
              "      <td>...</td>\n",
              "      <td>...</td>\n",
              "      <td>...</td>\n",
              "      <td>...</td>\n",
              "      <td>...</td>\n",
              "      <td>...</td>\n",
              "      <td>...</td>\n",
              "      <td>...</td>\n",
              "      <td>...</td>\n",
              "      <td>...</td>\n",
              "      <td>...</td>\n",
              "      <td>...</td>\n",
              "      <td>...</td>\n",
              "      <td>...</td>\n",
              "      <td>...</td>\n",
              "      <td>...</td>\n",
              "      <td>...</td>\n",
              "      <td>...</td>\n",
              "      <td>...</td>\n",
              "      <td>...</td>\n",
              "      <td>...</td>\n",
              "      <td>...</td>\n",
              "      <td>...</td>\n",
              "      <td>...</td>\n",
              "      <td>...</td>\n",
              "      <td>...</td>\n",
              "      <td>...</td>\n",
              "      <td>...</td>\n",
              "      <td>...</td>\n",
              "      <td>...</td>\n",
              "      <td>...</td>\n",
              "      <td>...</td>\n",
              "      <td>...</td>\n",
              "      <td>...</td>\n",
              "      <td>...</td>\n",
              "      <td>...</td>\n",
              "      <td>...</td>\n",
              "      <td>...</td>\n",
              "      <td>...</td>\n",
              "      <td>...</td>\n",
              "      <td>...</td>\n",
              "      <td>...</td>\n",
              "      <td>...</td>\n",
              "      <td>...</td>\n",
              "      <td>...</td>\n",
              "      <td>...</td>\n",
              "      <td>...</td>\n",
              "      <td>...</td>\n",
              "      <td>...</td>\n",
              "      <td>...</td>\n",
              "      <td>...</td>\n",
              "      <td>...</td>\n",
              "      <td>...</td>\n",
              "      <td>...</td>\n",
              "      <td>...</td>\n",
              "      <td>...</td>\n",
              "      <td>...</td>\n",
              "      <td>...</td>\n",
              "      <td>...</td>\n",
              "      <td>...</td>\n",
              "      <td>...</td>\n",
              "      <td>...</td>\n",
              "      <td>...</td>\n",
              "      <td>...</td>\n",
              "      <td>...</td>\n",
              "    </tr>\n",
              "    <tr>\n",
              "      <th>3260</th>\n",
              "      <td>0</td>\n",
              "      <td>1</td>\n",
              "      <td>64</td>\n",
              "      <td>1</td>\n",
              "      <td>0</td>\n",
              "      <td>1</td>\n",
              "      <td>0</td>\n",
              "      <td>0</td>\n",
              "      <td>1</td>\n",
              "      <td>0</td>\n",
              "      <td>0</td>\n",
              "      <td>0</td>\n",
              "      <td>0</td>\n",
              "      <td>0</td>\n",
              "      <td>1</td>\n",
              "      <td>0</td>\n",
              "      <td>0</td>\n",
              "      <td>0</td>\n",
              "      <td>0</td>\n",
              "      <td>0</td>\n",
              "      <td>0</td>\n",
              "      <td>0</td>\n",
              "      <td>0</td>\n",
              "      <td>0</td>\n",
              "      <td>0</td>\n",
              "      <td>0</td>\n",
              "      <td>0</td>\n",
              "      <td>0</td>\n",
              "      <td>0</td>\n",
              "      <td>0</td>\n",
              "      <td>0</td>\n",
              "      <td>0</td>\n",
              "      <td>0</td>\n",
              "      <td>0</td>\n",
              "      <td>0</td>\n",
              "      <td>0</td>\n",
              "      <td>0</td>\n",
              "      <td>0</td>\n",
              "      <td>0</td>\n",
              "      <td>0</td>\n",
              "      <td>0</td>\n",
              "      <td>0</td>\n",
              "      <td>0</td>\n",
              "      <td>0</td>\n",
              "      <td>0</td>\n",
              "      <td>0</td>\n",
              "      <td>0</td>\n",
              "      <td>0</td>\n",
              "      <td>0</td>\n",
              "      <td>0</td>\n",
              "      <td>0</td>\n",
              "      <td>0</td>\n",
              "      <td>0</td>\n",
              "      <td>0</td>\n",
              "      <td>0</td>\n",
              "      <td>0</td>\n",
              "      <td>0</td>\n",
              "      <td>0</td>\n",
              "      <td>0</td>\n",
              "      <td>0</td>\n",
              "      <td>0</td>\n",
              "      <td>0</td>\n",
              "      <td>0</td>\n",
              "      <td>0</td>\n",
              "      <td>0</td>\n",
              "      <td>0</td>\n",
              "      <td>0</td>\n",
              "      <td>0</td>\n",
              "      <td>0</td>\n",
              "      <td>0</td>\n",
              "      <td>0</td>\n",
              "      <td>0</td>\n",
              "      <td>0</td>\n",
              "      <td>0</td>\n",
              "      <td>0</td>\n",
              "      <td>1</td>\n",
              "      <td>0</td>\n",
              "      <td>0</td>\n",
              "    </tr>\n",
              "    <tr>\n",
              "      <th>3261</th>\n",
              "      <td>0</td>\n",
              "      <td>3</td>\n",
              "      <td>99</td>\n",
              "      <td>0</td>\n",
              "      <td>0</td>\n",
              "      <td>2</td>\n",
              "      <td>0</td>\n",
              "      <td>0</td>\n",
              "      <td>1</td>\n",
              "      <td>0</td>\n",
              "      <td>0</td>\n",
              "      <td>0</td>\n",
              "      <td>1</td>\n",
              "      <td>0</td>\n",
              "      <td>0</td>\n",
              "      <td>0</td>\n",
              "      <td>0</td>\n",
              "      <td>0</td>\n",
              "      <td>0</td>\n",
              "      <td>0</td>\n",
              "      <td>0</td>\n",
              "      <td>0</td>\n",
              "      <td>0</td>\n",
              "      <td>0</td>\n",
              "      <td>0</td>\n",
              "      <td>0</td>\n",
              "      <td>0</td>\n",
              "      <td>0</td>\n",
              "      <td>0</td>\n",
              "      <td>0</td>\n",
              "      <td>0</td>\n",
              "      <td>0</td>\n",
              "      <td>0</td>\n",
              "      <td>0</td>\n",
              "      <td>0</td>\n",
              "      <td>0</td>\n",
              "      <td>1</td>\n",
              "      <td>0</td>\n",
              "      <td>0</td>\n",
              "      <td>0</td>\n",
              "      <td>0</td>\n",
              "      <td>0</td>\n",
              "      <td>0</td>\n",
              "      <td>0</td>\n",
              "      <td>0</td>\n",
              "      <td>0</td>\n",
              "      <td>0</td>\n",
              "      <td>0</td>\n",
              "      <td>0</td>\n",
              "      <td>0</td>\n",
              "      <td>0</td>\n",
              "      <td>0</td>\n",
              "      <td>0</td>\n",
              "      <td>0</td>\n",
              "      <td>0</td>\n",
              "      <td>0</td>\n",
              "      <td>0</td>\n",
              "      <td>0</td>\n",
              "      <td>0</td>\n",
              "      <td>0</td>\n",
              "      <td>0</td>\n",
              "      <td>0</td>\n",
              "      <td>0</td>\n",
              "      <td>0</td>\n",
              "      <td>0</td>\n",
              "      <td>0</td>\n",
              "      <td>0</td>\n",
              "      <td>0</td>\n",
              "      <td>0</td>\n",
              "      <td>0</td>\n",
              "      <td>0</td>\n",
              "      <td>0</td>\n",
              "      <td>0</td>\n",
              "      <td>0</td>\n",
              "      <td>0</td>\n",
              "      <td>0</td>\n",
              "      <td>0</td>\n",
              "      <td>0</td>\n",
              "    </tr>\n",
              "    <tr>\n",
              "      <th>3262</th>\n",
              "      <td>0</td>\n",
              "      <td>4</td>\n",
              "      <td>127</td>\n",
              "      <td>1</td>\n",
              "      <td>0</td>\n",
              "      <td>4</td>\n",
              "      <td>0</td>\n",
              "      <td>0</td>\n",
              "      <td>1</td>\n",
              "      <td>0</td>\n",
              "      <td>0</td>\n",
              "      <td>0</td>\n",
              "      <td>0</td>\n",
              "      <td>0</td>\n",
              "      <td>0</td>\n",
              "      <td>0</td>\n",
              "      <td>1</td>\n",
              "      <td>0</td>\n",
              "      <td>0</td>\n",
              "      <td>0</td>\n",
              "      <td>0</td>\n",
              "      <td>0</td>\n",
              "      <td>0</td>\n",
              "      <td>0</td>\n",
              "      <td>0</td>\n",
              "      <td>0</td>\n",
              "      <td>0</td>\n",
              "      <td>0</td>\n",
              "      <td>0</td>\n",
              "      <td>0</td>\n",
              "      <td>0</td>\n",
              "      <td>0</td>\n",
              "      <td>0</td>\n",
              "      <td>0</td>\n",
              "      <td>0</td>\n",
              "      <td>0</td>\n",
              "      <td>0</td>\n",
              "      <td>0</td>\n",
              "      <td>0</td>\n",
              "      <td>0</td>\n",
              "      <td>0</td>\n",
              "      <td>0</td>\n",
              "      <td>0</td>\n",
              "      <td>0</td>\n",
              "      <td>0</td>\n",
              "      <td>0</td>\n",
              "      <td>0</td>\n",
              "      <td>0</td>\n",
              "      <td>0</td>\n",
              "      <td>0</td>\n",
              "      <td>0</td>\n",
              "      <td>0</td>\n",
              "      <td>0</td>\n",
              "      <td>0</td>\n",
              "      <td>0</td>\n",
              "      <td>0</td>\n",
              "      <td>0</td>\n",
              "      <td>0</td>\n",
              "      <td>0</td>\n",
              "      <td>0</td>\n",
              "      <td>0</td>\n",
              "      <td>0</td>\n",
              "      <td>0</td>\n",
              "      <td>0</td>\n",
              "      <td>0</td>\n",
              "      <td>0</td>\n",
              "      <td>1</td>\n",
              "      <td>0</td>\n",
              "      <td>0</td>\n",
              "      <td>0</td>\n",
              "      <td>0</td>\n",
              "      <td>0</td>\n",
              "      <td>0</td>\n",
              "      <td>0</td>\n",
              "      <td>0</td>\n",
              "      <td>0</td>\n",
              "      <td>0</td>\n",
              "      <td>0</td>\n",
              "    </tr>\n",
              "    <tr>\n",
              "      <th>3263</th>\n",
              "      <td>0</td>\n",
              "      <td>3</td>\n",
              "      <td>64</td>\n",
              "      <td>0</td>\n",
              "      <td>0</td>\n",
              "      <td>0</td>\n",
              "      <td>0</td>\n",
              "      <td>0</td>\n",
              "      <td>1</td>\n",
              "      <td>0</td>\n",
              "      <td>0</td>\n",
              "      <td>0</td>\n",
              "      <td>0</td>\n",
              "      <td>0</td>\n",
              "      <td>0</td>\n",
              "      <td>0</td>\n",
              "      <td>0</td>\n",
              "      <td>0</td>\n",
              "      <td>0</td>\n",
              "      <td>1</td>\n",
              "      <td>0</td>\n",
              "      <td>0</td>\n",
              "      <td>0</td>\n",
              "      <td>0</td>\n",
              "      <td>0</td>\n",
              "      <td>0</td>\n",
              "      <td>0</td>\n",
              "      <td>0</td>\n",
              "      <td>0</td>\n",
              "      <td>0</td>\n",
              "      <td>0</td>\n",
              "      <td>0</td>\n",
              "      <td>0</td>\n",
              "      <td>0</td>\n",
              "      <td>0</td>\n",
              "      <td>0</td>\n",
              "      <td>0</td>\n",
              "      <td>0</td>\n",
              "      <td>0</td>\n",
              "      <td>0</td>\n",
              "      <td>0</td>\n",
              "      <td>0</td>\n",
              "      <td>0</td>\n",
              "      <td>0</td>\n",
              "      <td>0</td>\n",
              "      <td>0</td>\n",
              "      <td>0</td>\n",
              "      <td>0</td>\n",
              "      <td>0</td>\n",
              "      <td>0</td>\n",
              "      <td>0</td>\n",
              "      <td>0</td>\n",
              "      <td>0</td>\n",
              "      <td>0</td>\n",
              "      <td>1</td>\n",
              "      <td>0</td>\n",
              "      <td>0</td>\n",
              "      <td>0</td>\n",
              "      <td>0</td>\n",
              "      <td>0</td>\n",
              "      <td>0</td>\n",
              "      <td>0</td>\n",
              "      <td>0</td>\n",
              "      <td>0</td>\n",
              "      <td>0</td>\n",
              "      <td>0</td>\n",
              "      <td>0</td>\n",
              "      <td>0</td>\n",
              "      <td>0</td>\n",
              "      <td>0</td>\n",
              "      <td>0</td>\n",
              "      <td>0</td>\n",
              "      <td>0</td>\n",
              "      <td>0</td>\n",
              "      <td>0</td>\n",
              "      <td>0</td>\n",
              "      <td>0</td>\n",
              "      <td>0</td>\n",
              "    </tr>\n",
              "    <tr>\n",
              "      <th>3264</th>\n",
              "      <td>0</td>\n",
              "      <td>4</td>\n",
              "      <td>70</td>\n",
              "      <td>0</td>\n",
              "      <td>0</td>\n",
              "      <td>1</td>\n",
              "      <td>0</td>\n",
              "      <td>0</td>\n",
              "      <td>1</td>\n",
              "      <td>0</td>\n",
              "      <td>0</td>\n",
              "      <td>0</td>\n",
              "      <td>1</td>\n",
              "      <td>0</td>\n",
              "      <td>0</td>\n",
              "      <td>0</td>\n",
              "      <td>0</td>\n",
              "      <td>0</td>\n",
              "      <td>0</td>\n",
              "      <td>0</td>\n",
              "      <td>0</td>\n",
              "      <td>0</td>\n",
              "      <td>0</td>\n",
              "      <td>0</td>\n",
              "      <td>0</td>\n",
              "      <td>0</td>\n",
              "      <td>0</td>\n",
              "      <td>0</td>\n",
              "      <td>0</td>\n",
              "      <td>0</td>\n",
              "      <td>0</td>\n",
              "      <td>0</td>\n",
              "      <td>0</td>\n",
              "      <td>0</td>\n",
              "      <td>0</td>\n",
              "      <td>0</td>\n",
              "      <td>0</td>\n",
              "      <td>0</td>\n",
              "      <td>0</td>\n",
              "      <td>0</td>\n",
              "      <td>0</td>\n",
              "      <td>0</td>\n",
              "      <td>0</td>\n",
              "      <td>0</td>\n",
              "      <td>0</td>\n",
              "      <td>0</td>\n",
              "      <td>0</td>\n",
              "      <td>0</td>\n",
              "      <td>0</td>\n",
              "      <td>0</td>\n",
              "      <td>0</td>\n",
              "      <td>0</td>\n",
              "      <td>0</td>\n",
              "      <td>0</td>\n",
              "      <td>0</td>\n",
              "      <td>0</td>\n",
              "      <td>0</td>\n",
              "      <td>0</td>\n",
              "      <td>1</td>\n",
              "      <td>0</td>\n",
              "      <td>0</td>\n",
              "      <td>0</td>\n",
              "      <td>0</td>\n",
              "      <td>0</td>\n",
              "      <td>0</td>\n",
              "      <td>0</td>\n",
              "      <td>0</td>\n",
              "      <td>0</td>\n",
              "      <td>0</td>\n",
              "      <td>0</td>\n",
              "      <td>0</td>\n",
              "      <td>0</td>\n",
              "      <td>0</td>\n",
              "      <td>0</td>\n",
              "      <td>0</td>\n",
              "      <td>0</td>\n",
              "      <td>0</td>\n",
              "      <td>0</td>\n",
              "    </tr>\n",
              "  </tbody>\n",
              "</table>\n",
              "<p>3265 rows × 78 columns</p>\n",
              "</div>"
            ],
            "text/plain": [
              "     condition  rooms  ...  neighborhood_les Corts neighborhood_les Tres Torres\n",
              "0            1      3  ...                       0                            0\n",
              "1            1      5  ...                       0                            0\n",
              "2            1      2  ...                       0                            0\n",
              "3            1      2  ...                       0                            0\n",
              "4            1      3  ...                       0                            0\n",
              "...        ...    ...  ...                     ...                          ...\n",
              "3260         0      1  ...                       0                            0\n",
              "3261         0      3  ...                       0                            0\n",
              "3262         0      4  ...                       0                            0\n",
              "3263         0      3  ...                       0                            0\n",
              "3264         0      4  ...                       0                            0\n",
              "\n",
              "[3265 rows x 78 columns]"
            ]
          },
          "metadata": {},
          "execution_count": 27
        }
      ]
    },
    {
      "cell_type": "code",
      "metadata": {
        "colab": {
          "base_uri": "https://localhost:8080/"
        },
        "id": "9COCc8oqRwr9",
        "outputId": "50544177-a917-4971-c118-82ec06e380af"
      },
      "source": [
        "y_geral = base['prices']\n",
        "y_geral"
      ],
      "execution_count": null,
      "outputs": [
        {
          "output_type": "execute_result",
          "data": {
            "text/plain": [
              "0       2300000\n",
              "1       1750000\n",
              "2        590000\n",
              "3        450000\n",
              "4        430000\n",
              "         ...   \n",
              "3260     295000\n",
              "3261     420000\n",
              "3262     545000\n",
              "3263     170000\n",
              "3264     178800\n",
              "Name: prices, Length: 3265, dtype: int64"
            ]
          },
          "metadata": {},
          "execution_count": 28
        }
      ]
    }
  ]
}